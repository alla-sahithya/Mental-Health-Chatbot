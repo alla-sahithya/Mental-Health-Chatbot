{
  "cells": [
    {
      "cell_type": "code",
      "execution_count": null,
      "metadata": {
        "colab": {
          "base_uri": "https://localhost:8080/"
        },
        "id": "sitww1IMSTdP",
        "outputId": "173ebbab-6759-40ac-c135-856ad773d57c",
        "scrolled": true
      },
      "outputs": [
        {
          "name": "stdout",
          "output_type": "stream",
          "text": [
            "Requirement already satisfied: datasets in c:\\users\\surya\\anaconda3\\lib\\site-packages (2.18.0)\n",
            "Requirement already satisfied: filelock in c:\\users\\surya\\anaconda3\\lib\\site-packages (from datasets) (3.13.1)\n",
            "Requirement already satisfied: numpy>=1.17 in c:\\users\\surya\\anaconda3\\lib\\site-packages (from datasets) (1.26.4)\n",
            "Requirement already satisfied: pyarrow>=12.0.0 in c:\\users\\surya\\anaconda3\\lib\\site-packages (from datasets) (14.0.2)\n",
            "Requirement already satisfied: pyarrow-hotfix in c:\\users\\surya\\anaconda3\\lib\\site-packages (from datasets) (0.6)\n",
            "Requirement already satisfied: dill<0.3.9,>=0.3.0 in c:\\users\\surya\\anaconda3\\lib\\site-packages (from datasets) (0.3.8)\n",
            "Requirement already satisfied: pandas in c:\\users\\surya\\anaconda3\\lib\\site-packages (from datasets) (2.1.4)\n",
            "Requirement already satisfied: requests>=2.19.0 in c:\\users\\surya\\anaconda3\\lib\\site-packages (from datasets) (2.31.0)\n",
            "Requirement already satisfied: tqdm>=4.62.1 in c:\\users\\surya\\anaconda3\\lib\\site-packages (from datasets) (4.65.0)\n",
            "Requirement already satisfied: xxhash in c:\\users\\surya\\anaconda3\\lib\\site-packages (from datasets) (3.4.1)\n",
            "Requirement already satisfied: multiprocess in c:\\users\\surya\\anaconda3\\lib\\site-packages (from datasets) (0.70.16)\n",
            "Requirement already satisfied: fsspec[http]<=2024.2.0,>=2023.1.0 in c:\\users\\surya\\anaconda3\\lib\\site-packages (from datasets) (2023.10.0)\n",
            "Requirement already satisfied: aiohttp in c:\\users\\surya\\anaconda3\\lib\\site-packages (from datasets) (3.9.3)\n",
            "Requirement already satisfied: huggingface-hub>=0.19.4 in c:\\users\\surya\\anaconda3\\lib\\site-packages (from datasets) (0.20.3)\n",
            "Requirement already satisfied: packaging in c:\\users\\surya\\anaconda3\\lib\\site-packages (from datasets) (23.1)\n",
            "Requirement already satisfied: pyyaml>=5.1 in c:\\users\\surya\\anaconda3\\lib\\site-packages (from datasets) (6.0.1)\n",
            "Requirement already satisfied: aiosignal>=1.1.2 in c:\\users\\surya\\anaconda3\\lib\\site-packages (from aiohttp->datasets) (1.2.0)\n",
            "Requirement already satisfied: attrs>=17.3.0 in c:\\users\\surya\\anaconda3\\lib\\site-packages (from aiohttp->datasets) (23.1.0)\n",
            "Requirement already satisfied: frozenlist>=1.1.1 in c:\\users\\surya\\anaconda3\\lib\\site-packages (from aiohttp->datasets) (1.4.0)\n",
            "Requirement already satisfied: multidict<7.0,>=4.5 in c:\\users\\surya\\anaconda3\\lib\\site-packages (from aiohttp->datasets) (6.0.4)\n",
            "Requirement already satisfied: yarl<2.0,>=1.0 in c:\\users\\surya\\anaconda3\\lib\\site-packages (from aiohttp->datasets) (1.9.3)\n",
            "Requirement already satisfied: typing-extensions>=3.7.4.3 in c:\\users\\surya\\anaconda3\\lib\\site-packages (from huggingface-hub>=0.19.4->datasets) (4.10.0)\n",
            "Requirement already satisfied: charset-normalizer<4,>=2 in c:\\users\\surya\\anaconda3\\lib\\site-packages (from requests>=2.19.0->datasets) (2.0.4)\n",
            "Requirement already satisfied: idna<4,>=2.5 in c:\\users\\surya\\anaconda3\\lib\\site-packages (from requests>=2.19.0->datasets) (3.4)\n",
            "Requirement already satisfied: urllib3<3,>=1.21.1 in c:\\users\\surya\\anaconda3\\lib\\site-packages (from requests>=2.19.0->datasets) (2.0.7)\n",
            "Requirement already satisfied: certifi>=2017.4.17 in c:\\users\\surya\\anaconda3\\lib\\site-packages (from requests>=2.19.0->datasets) (2024.2.2)\n",
            "Requirement already satisfied: colorama in c:\\users\\surya\\anaconda3\\lib\\site-packages (from tqdm>=4.62.1->datasets) (0.4.6)\n",
            "Requirement already satisfied: python-dateutil>=2.8.2 in c:\\users\\surya\\anaconda3\\lib\\site-packages (from pandas->datasets) (2.8.2)\n",
            "Requirement already satisfied: pytz>=2020.1 in c:\\users\\surya\\anaconda3\\lib\\site-packages (from pandas->datasets) (2023.3.post1)\n",
            "Requirement already satisfied: tzdata>=2022.1 in c:\\users\\surya\\anaconda3\\lib\\site-packages (from pandas->datasets) (2023.3)\n",
            "Requirement already satisfied: six>=1.5 in c:\\users\\surya\\anaconda3\\lib\\site-packages (from python-dateutil>=2.8.2->pandas->datasets) (1.16.0)\n"
          ]
        }
      ],
      "source": [
        "! pip install datasets"
      ]
    },
    {
      "cell_type": "code",
      "execution_count": null,
      "metadata": {
        "id": "SFOZyKKdSd4u"
      },
      "outputs": [],
      "source": [
        "import torch\n",
        "device = torch.device('cuda' if torch.cuda.is_available() else 'cpu')"
      ]
    },
    {
      "cell_type": "code",
      "execution_count": null,
      "metadata": {
        "colab": {
          "base_uri": "https://localhost:8080/"
        },
        "id": "Onu59EksSfva",
        "outputId": "345e1199-a9ec-4de8-ce88-0386dd3e344a"
      },
      "outputs": [
        {
          "name": "stdout",
          "output_type": "stream",
          "text": [
            "Requirement already satisfied: transformers[torch] in c:\\users\\surya\\anaconda3\\lib\\site-packages (4.40.1)\n",
            "Requirement already satisfied: filelock in c:\\users\\surya\\anaconda3\\lib\\site-packages (from transformers[torch]) (3.13.1)\n",
            "Requirement already satisfied: huggingface-hub<1.0,>=0.19.3 in c:\\users\\surya\\anaconda3\\lib\\site-packages (from transformers[torch]) (0.20.3)\n",
            "Requirement already satisfied: numpy>=1.17 in c:\\users\\surya\\anaconda3\\lib\\site-packages (from transformers[torch]) (1.26.4)\n",
            "Requirement already satisfied: packaging>=20.0 in c:\\users\\surya\\anaconda3\\lib\\site-packages (from transformers[torch]) (23.1)\n",
            "Requirement already satisfied: pyyaml>=5.1 in c:\\users\\surya\\anaconda3\\lib\\site-packages (from transformers[torch]) (6.0.1)\n",
            "Requirement already satisfied: regex!=2019.12.17 in c:\\users\\surya\\anaconda3\\lib\\site-packages (from transformers[torch]) (2023.10.3)\n",
            "Requirement already satisfied: requests in c:\\users\\surya\\anaconda3\\lib\\site-packages (from transformers[torch]) (2.31.0)\n",
            "Requirement already satisfied: tokenizers<0.20,>=0.19 in c:\\users\\surya\\anaconda3\\lib\\site-packages (from transformers[torch]) (0.19.1)\n",
            "Requirement already satisfied: safetensors>=0.4.1 in c:\\users\\surya\\anaconda3\\lib\\site-packages (from transformers[torch]) (0.4.2)\n",
            "Requirement already satisfied: tqdm>=4.27 in c:\\users\\surya\\anaconda3\\lib\\site-packages (from transformers[torch]) (4.65.0)\n",
            "Requirement already satisfied: torch in c:\\users\\surya\\anaconda3\\lib\\site-packages (from transformers[torch]) (2.2.1)\n",
            "Requirement already satisfied: accelerate>=0.21.0 in c:\\users\\surya\\anaconda3\\lib\\site-packages (from transformers[torch]) (0.29.3)\n",
            "Requirement already satisfied: psutil in c:\\users\\surya\\anaconda3\\lib\\site-packages (from accelerate>=0.21.0->transformers[torch]) (5.9.0)\n",
            "Requirement already satisfied: fsspec>=2023.5.0 in c:\\users\\surya\\anaconda3\\lib\\site-packages (from huggingface-hub<1.0,>=0.19.3->transformers[torch]) (2023.10.0)\n",
            "Requirement already satisfied: typing-extensions>=3.7.4.3 in c:\\users\\surya\\anaconda3\\lib\\site-packages (from huggingface-hub<1.0,>=0.19.3->transformers[torch]) (4.10.0)\n",
            "Requirement already satisfied: sympy in c:\\users\\surya\\anaconda3\\lib\\site-packages (from torch->transformers[torch]) (1.12)\n",
            "Requirement already satisfied: networkx in c:\\users\\surya\\anaconda3\\lib\\site-packages (from torch->transformers[torch]) (3.1)\n",
            "Requirement already satisfied: jinja2 in c:\\users\\surya\\anaconda3\\lib\\site-packages (from torch->transformers[torch]) (3.1.3)\n",
            "Requirement already satisfied: colorama in c:\\users\\surya\\anaconda3\\lib\\site-packages (from tqdm>=4.27->transformers[torch]) (0.4.6)\n",
            "Requirement already satisfied: charset-normalizer<4,>=2 in c:\\users\\surya\\anaconda3\\lib\\site-packages (from requests->transformers[torch]) (2.0.4)\n",
            "Requirement already satisfied: idna<4,>=2.5 in c:\\users\\surya\\anaconda3\\lib\\site-packages (from requests->transformers[torch]) (3.4)\n",
            "Requirement already satisfied: urllib3<3,>=1.21.1 in c:\\users\\surya\\anaconda3\\lib\\site-packages (from requests->transformers[torch]) (2.0.7)\n",
            "Requirement already satisfied: certifi>=2017.4.17 in c:\\users\\surya\\anaconda3\\lib\\site-packages (from requests->transformers[torch]) (2024.2.2)\n",
            "Requirement already satisfied: MarkupSafe>=2.0 in c:\\users\\surya\\anaconda3\\lib\\site-packages (from jinja2->torch->transformers[torch]) (2.1.3)\n",
            "Requirement already satisfied: mpmath>=0.19 in c:\\users\\surya\\anaconda3\\lib\\site-packages (from sympy->torch->transformers[torch]) (1.3.0)\n"
          ]
        }
      ],
      "source": [
        "!pip install transformers[torch] -U"
      ]
    },
    {
      "cell_type": "code",
      "execution_count": null,
      "metadata": {
        "id": "12NsLiIGSnEk"
      },
      "outputs": [],
      "source": [
        "import json\n",
        "with open('C:/Users/surya/Downloads/chit_chat_generator/chit_chat.json', 'r') as file:\n",
        "    data = json.load(file)"
      ]
    },
    {
      "cell_type": "code",
      "execution_count": null,
      "metadata": {
        "id": "iWuo_9nLS0oi"
      },
      "outputs": [],
      "source": [
        "import pandas as pd\n",
        "import csv\n",
        "import re\n",
        "import string"
      ]
    },
    {
      "cell_type": "code",
      "execution_count": null,
      "metadata": {
        "id": "ON3sKtdtS2JL"
      },
      "outputs": [],
      "source": [
        "def clean_text(text):\n",
        "    text = text.lower()\n",
        "    text = re.sub(r'[^\\w\\s\\.,!?]', '', text)\n",
        "    PUNCT_TO_REMOVE = string.punctuation\n",
        "    clean_text = text.translate(str.maketrans(\"\", \"\", PUNCT_TO_REMOVE))\n",
        "    clean_text = re.sub(r'\\s+', ' ', clean_text).strip()\n",
        "    return clean_text"
      ]
    },
    {
      "cell_type": "code",
      "execution_count": null,
      "metadata": {
        "id": "5qc2TBf4S69D"
      },
      "outputs": [],
      "source": [
        "formatted_data = []\n",
        "\n",
        "for key, value in data.items():\n",
        "    input_text = \"\"\n",
        "    target_text = \"\"\n",
        "    first_sender = None\n",
        "    next_sender = None\n",
        "\n",
        "    for messages in value[\"messages\"]:\n",
        "        for j, msg in enumerate(messages):\n",
        "          msg_text = clean_text(msg[\"text\"]).strip()\n",
        "          if first_sender is None:\n",
        "            first_sender = msg[\"sender\"]\n",
        "\n",
        "          if msg[\"sender\"] == first_sender:\n",
        "            if input_text == \"\":\n",
        "              input_text = msg_text\n",
        "            if j < len(messages) - 1:\n",
        "              next_sender = messages[j + 1][\"sender\"]\n",
        "            else:\n",
        "              next_sender = None\n",
        "\n",
        "            if msg[\"sender\"] == next_sender:\n",
        "              input_text = input_text + \" </s> \" + clean_text(messages[j + 1][\"text\"]).strip()\n",
        "              continue\n",
        "          elif msg[\"sender\"] != first_sender:\n",
        "            if target_text == \"\":\n",
        "              target_text = msg_text\n",
        "            if j < len(messages) - 1:\n",
        "              next_sender = messages[j + 1][\"sender\"]\n",
        "            else:\n",
        "              next_sender = None\n",
        "\n",
        "            if msg[\"sender\"] == next_sender:\n",
        "              target_text = target_text + \" </s> \" + clean_text(messages[j + 1][\"text\"]).strip()\n",
        "              continue\n",
        "\n",
        "            formatted_data.append({'input': input_text.strip() + \" </s> \", 'target': target_text.strip() + \" </s> \"})\n",
        "            input_text = \"\"\n",
        "            target_text = \"\""
      ]
    },
    {
      "cell_type": "code",
      "execution_count": null,
      "metadata": {
        "colab": {
          "base_uri": "https://localhost:8080/"
        },
        "id": "TIFV-xouo20b",
        "outputId": "2c0cca49-d9a8-4c06-db46-86de4f7153e3"
      },
      "outputs": [
        {
          "name": "stdout",
          "output_type": "stream",
          "text": [
            "Formatted data stored in train_data.txt\n"
          ]
        }
      ],
      "source": [
        "formatted_data_out = pd.DataFrame(formatted_data)\n",
        "formatted_data_out.to_csv('C:/Users/surya/Downloads/chit_chat_generator/train_data.txt', sep='\\t', index=False, header=False)\n",
        "print(\"Formatted data stored in train_data.txt\")"
      ]
    },
    {
      "cell_type": "code",
      "execution_count": null,
      "metadata": {
        "id": "k16XhWGIUOVK"
      },
      "outputs": [],
      "source": [
        "formatted_dataset = {\n",
        "    \"input_text\": [pair[\"input\"] for pair in formatted_data],\n",
        "    \"output_text\": [pair[\"target\"] for pair in formatted_data]\n",
        "}"
      ]
    },
    {
      "cell_type": "code",
      "execution_count": null,
      "metadata": {
        "colab": {
          "base_uri": "https://localhost:8080/",
          "height": 330,
          "referenced_widgets": [
            "6a5a201fd7eb41bb869258e5053d2661",
            "87d8efec02fa48ebb78da8c9dde9d547",
            "e4d07dd2d0f44ed0b6ad876680aec205",
            "19ebf27349384b57a6b115714c151874",
            "a17bd3e104cf4f798ec992a13b6f577e",
            "c112eba2ed974f44b67674eaa744400d",
            "2dff14236d4e461194f22dde8a5bd8be",
            "94e26b7817b443309b79a96df922fa90",
            "6a42f88b5ec34c5dbcf793436b950b49",
            "f38a2ff6b5da4c25a62a75b091ec0b02",
            "f1455541aec7459b946b19187d8eb5b7",
            "7a78988523164bba80f675c3fa1e0f86",
            "7e6c5f51d8bc431f9bc2d30e2c805b11",
            "150a14ea1ba947678d9875c9c515049e",
            "b0e232e6508b4407b4c2991324197a5e",
            "ebe9b49baf05448abf33a6cb47a9952d",
            "d91f0ae1129b4c56b75e25087e33adcc",
            "6c13d09d265e4160a6196435291099cd",
            "4ee59532c80c4b55941e92d453523543"
          ]
        },
        "id": "rZafTJVdWTVk",
        "outputId": "1d0625ec-3f0b-437c-b55b-deba04e82445"
      },
      "outputs": [
        {
          "data": {
            "application/vnd.jupyter.widget-view+json": {
              "model_id": "4ee59532c80c4b55941e92d453523543",
              "version_major": 2,
              "version_minor": 0
            },
            "text/plain": [
              "VBox(children=(HTML(value='<center> <img\\nsrc=https://huggingface.co/front/assets/huggingface_logo-noborder.sv…"
            ]
          },
          "metadata": {},
          "output_type": "display_data"
        }
      ],
      "source": [
        "from huggingface_hub import notebook_login\n",
        "\n",
        "notebook_login()"
      ]
    },
    {
      "cell_type": "code",
      "execution_count": null,
      "metadata": {
        "colab": {
          "base_uri": "https://localhost:8080/",
          "referenced_widgets": [
            "f876d8232f6a410d9490b3a7878ab1e3",
            "62ecbfbcd13f4616a0a9e8e2a80fb040",
            "832848c1e37f48f288a914c798fb95d2",
            "08db1fff7286420a9807dcaea68e6356",
            "128899b92e9449bfb703fdd22ea920e5",
            "34dbc520fa904ff19e08e3818207e157",
            "f53b46ca59864983b085782b629d780c"
          ]
        },
        "id": "JQNZzkuaWWkE",
        "outputId": "c0e2f8d0-d9d5-4d79-9814-8bb2967296f4"
      },
      "outputs": [
        {
          "name": "stderr",
          "output_type": "stream",
          "text": [
            "Special tokens have been added in the vocabulary, make sure the associated word embeddings are fine-tuned or trained.\n"
          ]
        }
      ],
      "source": [
        "from transformers import T5Tokenizer, T5ForConditionalGeneration\n",
        "model_name = \"kssumanth6/t5_small_chit_chat_generator_v3\"\n",
        "\n",
        "device = torch.device('cuda' if torch.cuda.is_available() else 'cpu')\n",
        "\n",
        "model = T5ForConditionalGeneration.from_pretrained(model_name).to(device)\n",
        "\n",
        "tokenizer = T5Tokenizer.from_pretrained(model_name)"
      ]
    },
    {
      "cell_type": "code",
      "execution_count": null,
      "metadata": {
        "colab": {
          "base_uri": "https://localhost:8080/"
        },
        "id": "7dorJWhczh5X",
        "outputId": "ede0e9ee-5a6d-4f0d-cf0f-38ba4c64db82"
      },
      "outputs": [
        {
          "data": {
            "text/plain": [
              "T5ForConditionalGeneration(\n",
              "  (shared): Embedding(32128, 512)\n",
              "  (encoder): T5Stack(\n",
              "    (embed_tokens): Embedding(32128, 512)\n",
              "    (block): ModuleList(\n",
              "      (0): T5Block(\n",
              "        (layer): ModuleList(\n",
              "          (0): T5LayerSelfAttention(\n",
              "            (SelfAttention): T5Attention(\n",
              "              (q): Linear(in_features=512, out_features=512, bias=False)\n",
              "              (k): Linear(in_features=512, out_features=512, bias=False)\n",
              "              (v): Linear(in_features=512, out_features=512, bias=False)\n",
              "              (o): Linear(in_features=512, out_features=512, bias=False)\n",
              "              (relative_attention_bias): Embedding(32, 8)\n",
              "            )\n",
              "            (layer_norm): T5LayerNorm()\n",
              "            (dropout): Dropout(p=0.1, inplace=False)\n",
              "          )\n",
              "          (1): T5LayerFF(\n",
              "            (DenseReluDense): T5DenseActDense(\n",
              "              (wi): Linear(in_features=512, out_features=2048, bias=False)\n",
              "              (wo): Linear(in_features=2048, out_features=512, bias=False)\n",
              "              (dropout): Dropout(p=0.1, inplace=False)\n",
              "              (act): ReLU()\n",
              "            )\n",
              "            (layer_norm): T5LayerNorm()\n",
              "            (dropout): Dropout(p=0.1, inplace=False)\n",
              "          )\n",
              "        )\n",
              "      )\n",
              "      (1-5): 5 x T5Block(\n",
              "        (layer): ModuleList(\n",
              "          (0): T5LayerSelfAttention(\n",
              "            (SelfAttention): T5Attention(\n",
              "              (q): Linear(in_features=512, out_features=512, bias=False)\n",
              "              (k): Linear(in_features=512, out_features=512, bias=False)\n",
              "              (v): Linear(in_features=512, out_features=512, bias=False)\n",
              "              (o): Linear(in_features=512, out_features=512, bias=False)\n",
              "            )\n",
              "            (layer_norm): T5LayerNorm()\n",
              "            (dropout): Dropout(p=0.1, inplace=False)\n",
              "          )\n",
              "          (1): T5LayerFF(\n",
              "            (DenseReluDense): T5DenseActDense(\n",
              "              (wi): Linear(in_features=512, out_features=2048, bias=False)\n",
              "              (wo): Linear(in_features=2048, out_features=512, bias=False)\n",
              "              (dropout): Dropout(p=0.1, inplace=False)\n",
              "              (act): ReLU()\n",
              "            )\n",
              "            (layer_norm): T5LayerNorm()\n",
              "            (dropout): Dropout(p=0.1, inplace=False)\n",
              "          )\n",
              "        )\n",
              "      )\n",
              "    )\n",
              "    (final_layer_norm): T5LayerNorm()\n",
              "    (dropout): Dropout(p=0.1, inplace=False)\n",
              "  )\n",
              "  (decoder): T5Stack(\n",
              "    (embed_tokens): Embedding(32128, 512)\n",
              "    (block): ModuleList(\n",
              "      (0): T5Block(\n",
              "        (layer): ModuleList(\n",
              "          (0): T5LayerSelfAttention(\n",
              "            (SelfAttention): T5Attention(\n",
              "              (q): Linear(in_features=512, out_features=512, bias=False)\n",
              "              (k): Linear(in_features=512, out_features=512, bias=False)\n",
              "              (v): Linear(in_features=512, out_features=512, bias=False)\n",
              "              (o): Linear(in_features=512, out_features=512, bias=False)\n",
              "              (relative_attention_bias): Embedding(32, 8)\n",
              "            )\n",
              "            (layer_norm): T5LayerNorm()\n",
              "            (dropout): Dropout(p=0.1, inplace=False)\n",
              "          )\n",
              "          (1): T5LayerCrossAttention(\n",
              "            (EncDecAttention): T5Attention(\n",
              "              (q): Linear(in_features=512, out_features=512, bias=False)\n",
              "              (k): Linear(in_features=512, out_features=512, bias=False)\n",
              "              (v): Linear(in_features=512, out_features=512, bias=False)\n",
              "              (o): Linear(in_features=512, out_features=512, bias=False)\n",
              "            )\n",
              "            (layer_norm): T5LayerNorm()\n",
              "            (dropout): Dropout(p=0.1, inplace=False)\n",
              "          )\n",
              "          (2): T5LayerFF(\n",
              "            (DenseReluDense): T5DenseActDense(\n",
              "              (wi): Linear(in_features=512, out_features=2048, bias=False)\n",
              "              (wo): Linear(in_features=2048, out_features=512, bias=False)\n",
              "              (dropout): Dropout(p=0.1, inplace=False)\n",
              "              (act): ReLU()\n",
              "            )\n",
              "            (layer_norm): T5LayerNorm()\n",
              "            (dropout): Dropout(p=0.1, inplace=False)\n",
              "          )\n",
              "        )\n",
              "      )\n",
              "      (1-5): 5 x T5Block(\n",
              "        (layer): ModuleList(\n",
              "          (0): T5LayerSelfAttention(\n",
              "            (SelfAttention): T5Attention(\n",
              "              (q): Linear(in_features=512, out_features=512, bias=False)\n",
              "              (k): Linear(in_features=512, out_features=512, bias=False)\n",
              "              (v): Linear(in_features=512, out_features=512, bias=False)\n",
              "              (o): Linear(in_features=512, out_features=512, bias=False)\n",
              "            )\n",
              "            (layer_norm): T5LayerNorm()\n",
              "            (dropout): Dropout(p=0.1, inplace=False)\n",
              "          )\n",
              "          (1): T5LayerCrossAttention(\n",
              "            (EncDecAttention): T5Attention(\n",
              "              (q): Linear(in_features=512, out_features=512, bias=False)\n",
              "              (k): Linear(in_features=512, out_features=512, bias=False)\n",
              "              (v): Linear(in_features=512, out_features=512, bias=False)\n",
              "              (o): Linear(in_features=512, out_features=512, bias=False)\n",
              "            )\n",
              "            (layer_norm): T5LayerNorm()\n",
              "            (dropout): Dropout(p=0.1, inplace=False)\n",
              "          )\n",
              "          (2): T5LayerFF(\n",
              "            (DenseReluDense): T5DenseActDense(\n",
              "              (wi): Linear(in_features=512, out_features=2048, bias=False)\n",
              "              (wo): Linear(in_features=2048, out_features=512, bias=False)\n",
              "              (dropout): Dropout(p=0.1, inplace=False)\n",
              "              (act): ReLU()\n",
              "            )\n",
              "            (layer_norm): T5LayerNorm()\n",
              "            (dropout): Dropout(p=0.1, inplace=False)\n",
              "          )\n",
              "        )\n",
              "      )\n",
              "    )\n",
              "    (final_layer_norm): T5LayerNorm()\n",
              "    (dropout): Dropout(p=0.1, inplace=False)\n",
              "  )\n",
              "  (lm_head): Linear(in_features=512, out_features=32128, bias=False)\n",
              ")"
            ]
          },
          "execution_count": 12,
          "metadata": {},
          "output_type": "execute_result"
        }
      ],
      "source": [
        "model.eval()"
      ]
    },
    {
      "cell_type": "code",
      "execution_count": null,
      "metadata": {
        "id": "eL1EKO9GUea-"
      },
      "outputs": [],
      "source": [
        "def tokenize_function(talks):\n",
        "    tokenized_inputs = tokenizer(talks['input_text'], padding='max_length', truncation=True, max_length=256)\n",
        "    tokenized_outputs = tokenizer(talks['output_text'], padding='max_length', truncation=True, max_length=256)\n",
        "    return {'input_ids': tokenized_inputs['input_ids'], 'attention_mask': tokenized_inputs['attention_mask'], 'labels': tokenized_outputs['input_ids']}"
      ]
    },
    {
      "cell_type": "code",
      "execution_count": null,
      "metadata": {
        "colab": {
          "base_uri": "https://localhost:8080/",
          "height": 49,
          "referenced_widgets": [
            "9b93cb6d3ce144e380dad0dc432b39dd",
            "9a5f1e155cbd4810b4d64d1198809f2e",
            "51e646508e7947f8aed8fac601ae5ffb",
            "febb88a2258b4f7e96ae4edae413a874",
            "0d85b69492e4469e9f2e612cda0f326b",
            "117c60f68083408b80cf6109384193bb",
            "b031059604a14801be2caaf7867f00f0",
            "0964549b0c7c4e1d8a8c176dd69cc6c5",
            "27c651ec9dd841438c4cc2e48244b639",
            "4708d41d03244c8cb8ec817cf7907ad4",
            "a002055382034e01a542ce7a75425ff4",
            "21735a417ee9480da596d0cb86541f89",
            "3bce58da386b4df4ba2621caf3818e91"
          ]
        },
        "id": "3UnO8zekf-kp",
        "outputId": "4bda5cb7-d247-42a4-8727-e96c46756f2b"
      },
      "outputs": [
        {
          "data": {
            "application/vnd.jupyter.widget-view+json": {
              "model_id": "3bce58da386b4df4ba2621caf3818e91",
              "version_major": 2,
              "version_minor": 0
            },
            "text/plain": [
              "Map:   0%|          | 0/66853 [00:00<?, ? examples/s]"
            ]
          },
          "metadata": {},
          "output_type": "display_data"
        },
        {
          "name": "stderr",
          "output_type": "stream",
          "text": [
            "C:\\Users\\surya\\anaconda3\\Lib\\site-packages\\transformers\\models\\t5\\tokenization_t5.py:290: UserWarning: This sequence already has </s>. In future versions this behavior may lead to duplicated eos tokens being added.\n",
            "  warnings.warn(\n"
          ]
        }
      ],
      "source": [
        "from datasets import Dataset\n",
        "dataset = Dataset.from_dict(formatted_dataset)\n",
        "\n",
        "tokenized_datasets = dataset.map(tokenize_function, batched=True)\n",
        "\n",
        "train_eval_split = tokenized_datasets.train_test_split(test_size=0.2, shuffle=False)\n",
        "train_dataset = train_eval_split['train']\n",
        "eval_dataset = train_eval_split['test']\n",
        "\n",
        "val_test_split = eval_dataset.train_test_split(test_size = 0.5, shuffle=False)\n",
        "val_dataset = val_test_split['train']\n",
        "test_dataset = val_test_split['test']"
      ]
    },
    {
      "cell_type": "code",
      "execution_count": null,
      "metadata": {
        "colab": {
          "base_uri": "https://localhost:8080/"
        },
        "id": "eDqEnlZgWOf1",
        "outputId": "f04ae01d-1cb9-4cee-bcf3-3262982b71bc"
      },
      "outputs": [
        {
          "name": "stdout",
          "output_type": "stream",
          "text": [
            "Requirement already satisfied: datasets in c:\\users\\surya\\anaconda3\\lib\\site-packages (2.18.0)\n",
            "Requirement already satisfied: sentencepiece in c:\\users\\surya\\anaconda3\\lib\\site-packages (0.2.0)\n",
            "Requirement already satisfied: transformers in c:\\users\\surya\\anaconda3\\lib\\site-packages (4.40.1)\n",
            "Requirement already satisfied: rouge_score in c:\\users\\surya\\anaconda3\\lib\\site-packages (0.1.2)\n",
            "Requirement already satisfied: bert_score in c:\\users\\surya\\anaconda3\\lib\\site-packages (0.3.13)\n",
            "Requirement already satisfied: huggingface_hub in c:\\users\\surya\\anaconda3\\lib\\site-packages (0.20.3)\n",
            "Requirement already satisfied: filelock in c:\\users\\surya\\anaconda3\\lib\\site-packages (from datasets) (3.13.1)\n",
            "Requirement already satisfied: numpy>=1.17 in c:\\users\\surya\\anaconda3\\lib\\site-packages (from datasets) (1.26.4)\n",
            "Requirement already satisfied: pyarrow>=12.0.0 in c:\\users\\surya\\anaconda3\\lib\\site-packages (from datasets) (14.0.2)\n",
            "Requirement already satisfied: pyarrow-hotfix in c:\\users\\surya\\anaconda3\\lib\\site-packages (from datasets) (0.6)\n",
            "Requirement already satisfied: dill<0.3.9,>=0.3.0 in c:\\users\\surya\\anaconda3\\lib\\site-packages (from datasets) (0.3.8)\n",
            "Requirement already satisfied: pandas in c:\\users\\surya\\anaconda3\\lib\\site-packages (from datasets) (2.1.4)\n",
            "Requirement already satisfied: requests>=2.19.0 in c:\\users\\surya\\anaconda3\\lib\\site-packages (from datasets) (2.31.0)\n",
            "Requirement already satisfied: tqdm>=4.62.1 in c:\\users\\surya\\anaconda3\\lib\\site-packages (from datasets) (4.65.0)\n",
            "Requirement already satisfied: xxhash in c:\\users\\surya\\anaconda3\\lib\\site-packages (from datasets) (3.4.1)\n",
            "Requirement already satisfied: multiprocess in c:\\users\\surya\\anaconda3\\lib\\site-packages (from datasets) (0.70.16)\n",
            "Requirement already satisfied: fsspec[http]<=2024.2.0,>=2023.1.0 in c:\\users\\surya\\anaconda3\\lib\\site-packages (from datasets) (2023.10.0)\n",
            "Requirement already satisfied: aiohttp in c:\\users\\surya\\anaconda3\\lib\\site-packages (from datasets) (3.9.3)\n",
            "Requirement already satisfied: packaging in c:\\users\\surya\\anaconda3\\lib\\site-packages (from datasets) (23.1)\n",
            "Requirement already satisfied: pyyaml>=5.1 in c:\\users\\surya\\anaconda3\\lib\\site-packages (from datasets) (6.0.1)\n",
            "Requirement already satisfied: regex!=2019.12.17 in c:\\users\\surya\\anaconda3\\lib\\site-packages (from transformers) (2023.10.3)\n",
            "Requirement already satisfied: tokenizers<0.20,>=0.19 in c:\\users\\surya\\anaconda3\\lib\\site-packages (from transformers) (0.19.1)\n",
            "Requirement already satisfied: safetensors>=0.4.1 in c:\\users\\surya\\anaconda3\\lib\\site-packages (from transformers) (0.4.2)\n",
            "Requirement already satisfied: absl-py in c:\\users\\surya\\anaconda3\\lib\\site-packages (from rouge_score) (2.1.0)\n",
            "Requirement already satisfied: nltk in c:\\users\\surya\\anaconda3\\lib\\site-packages (from rouge_score) (3.8.1)\n",
            "Requirement already satisfied: six>=1.14.0 in c:\\users\\surya\\anaconda3\\lib\\site-packages (from rouge_score) (1.16.0)\n",
            "Requirement already satisfied: torch>=1.0.0 in c:\\users\\surya\\anaconda3\\lib\\site-packages (from bert_score) (2.2.1)\n",
            "Requirement already satisfied: matplotlib in c:\\users\\surya\\anaconda3\\lib\\site-packages (from bert_score) (3.8.4)\n",
            "Requirement already satisfied: typing-extensions>=3.7.4.3 in c:\\users\\surya\\anaconda3\\lib\\site-packages (from huggingface_hub) (4.10.0)\n",
            "Requirement already satisfied: aiosignal>=1.1.2 in c:\\users\\surya\\anaconda3\\lib\\site-packages (from aiohttp->datasets) (1.2.0)\n",
            "Requirement already satisfied: attrs>=17.3.0 in c:\\users\\surya\\anaconda3\\lib\\site-packages (from aiohttp->datasets) (23.1.0)\n",
            "Requirement already satisfied: frozenlist>=1.1.1 in c:\\users\\surya\\anaconda3\\lib\\site-packages (from aiohttp->datasets) (1.4.0)\n",
            "Requirement already satisfied: multidict<7.0,>=4.5 in c:\\users\\surya\\anaconda3\\lib\\site-packages (from aiohttp->datasets) (6.0.4)\n",
            "Requirement already satisfied: yarl<2.0,>=1.0 in c:\\users\\surya\\anaconda3\\lib\\site-packages (from aiohttp->datasets) (1.9.3)\n",
            "Requirement already satisfied: python-dateutil>=2.8.2 in c:\\users\\surya\\anaconda3\\lib\\site-packages (from pandas->datasets) (2.8.2)\n",
            "Requirement already satisfied: pytz>=2020.1 in c:\\users\\surya\\anaconda3\\lib\\site-packages (from pandas->datasets) (2023.3.post1)\n",
            "Requirement already satisfied: tzdata>=2022.1 in c:\\users\\surya\\anaconda3\\lib\\site-packages (from pandas->datasets) (2023.3)\n",
            "Requirement already satisfied: charset-normalizer<4,>=2 in c:\\users\\surya\\anaconda3\\lib\\site-packages (from requests>=2.19.0->datasets) (2.0.4)\n",
            "Requirement already satisfied: idna<4,>=2.5 in c:\\users\\surya\\anaconda3\\lib\\site-packages (from requests>=2.19.0->datasets) (3.4)\n",
            "Requirement already satisfied: urllib3<3,>=1.21.1 in c:\\users\\surya\\anaconda3\\lib\\site-packages (from requests>=2.19.0->datasets) (2.0.7)\n",
            "Requirement already satisfied: certifi>=2017.4.17 in c:\\users\\surya\\anaconda3\\lib\\site-packages (from requests>=2.19.0->datasets) (2024.2.2)\n",
            "Requirement already satisfied: sympy in c:\\users\\surya\\anaconda3\\lib\\site-packages (from torch>=1.0.0->bert_score) (1.12)\n",
            "Requirement already satisfied: networkx in c:\\users\\surya\\anaconda3\\lib\\site-packages (from torch>=1.0.0->bert_score) (3.1)\n",
            "Requirement already satisfied: jinja2 in c:\\users\\surya\\anaconda3\\lib\\site-packages (from torch>=1.0.0->bert_score) (3.1.3)\n",
            "Requirement already satisfied: colorama in c:\\users\\surya\\anaconda3\\lib\\site-packages (from tqdm>=4.62.1->datasets) (0.4.6)\n",
            "Requirement already satisfied: contourpy>=1.0.1 in c:\\users\\surya\\anaconda3\\lib\\site-packages (from matplotlib->bert_score) (1.2.0)\n",
            "Requirement already satisfied: cycler>=0.10 in c:\\users\\surya\\anaconda3\\lib\\site-packages (from matplotlib->bert_score) (0.11.0)\n",
            "Requirement already satisfied: fonttools>=4.22.0 in c:\\users\\surya\\anaconda3\\lib\\site-packages (from matplotlib->bert_score) (4.25.0)\n",
            "Requirement already satisfied: kiwisolver>=1.3.1 in c:\\users\\surya\\anaconda3\\lib\\site-packages (from matplotlib->bert_score) (1.4.4)\n",
            "Requirement already satisfied: pillow>=8 in c:\\users\\surya\\anaconda3\\lib\\site-packages (from matplotlib->bert_score) (10.2.0)\n",
            "Requirement already satisfied: pyparsing>=2.3.1 in c:\\users\\surya\\anaconda3\\lib\\site-packages (from matplotlib->bert_score) (3.0.9)\n",
            "Requirement already satisfied: click in c:\\users\\surya\\anaconda3\\lib\\site-packages (from nltk->rouge_score) (8.1.7)\n",
            "Requirement already satisfied: joblib in c:\\users\\surya\\anaconda3\\lib\\site-packages (from nltk->rouge_score) (1.2.0)\n",
            "Requirement already satisfied: MarkupSafe>=2.0 in c:\\users\\surya\\anaconda3\\lib\\site-packages (from jinja2->torch>=1.0.0->bert_score) (2.1.3)\n",
            "Requirement already satisfied: mpmath>=0.19 in c:\\users\\surya\\anaconda3\\lib\\site-packages (from sympy->torch>=1.0.0->bert_score) (1.3.0)\n",
            "Requirement already satisfied: scikit-learn in c:\\users\\surya\\anaconda3\\lib\\site-packages (1.4.2)\n",
            "Requirement already satisfied: scipy in c:\\users\\surya\\anaconda3\\lib\\site-packages (1.13.0)\n",
            "Requirement already satisfied: matplotlib in c:\\users\\surya\\anaconda3\\lib\\site-packages (3.8.4)\n",
            "Requirement already satisfied: numpy>=1.19.5 in c:\\users\\surya\\anaconda3\\lib\\site-packages (from scikit-learn) (1.26.4)\n",
            "Requirement already satisfied: joblib>=1.2.0 in c:\\users\\surya\\anaconda3\\lib\\site-packages (from scikit-learn) (1.2.0)\n",
            "Requirement already satisfied: threadpoolctl>=2.0.0 in c:\\users\\surya\\anaconda3\\lib\\site-packages (from scikit-learn) (2.2.0)\n",
            "Requirement already satisfied: contourpy>=1.0.1 in c:\\users\\surya\\anaconda3\\lib\\site-packages (from matplotlib) (1.2.0)\n",
            "Requirement already satisfied: cycler>=0.10 in c:\\users\\surya\\anaconda3\\lib\\site-packages (from matplotlib) (0.11.0)\n",
            "Requirement already satisfied: fonttools>=4.22.0 in c:\\users\\surya\\anaconda3\\lib\\site-packages (from matplotlib) (4.25.0)\n",
            "Requirement already satisfied: kiwisolver>=1.3.1 in c:\\users\\surya\\anaconda3\\lib\\site-packages (from matplotlib) (1.4.4)\n",
            "Requirement already satisfied: packaging>=20.0 in c:\\users\\surya\\anaconda3\\lib\\site-packages (from matplotlib) (23.1)\n",
            "Requirement already satisfied: pillow>=8 in c:\\users\\surya\\anaconda3\\lib\\site-packages (from matplotlib) (10.2.0)\n",
            "Requirement already satisfied: pyparsing>=2.3.1 in c:\\users\\surya\\anaconda3\\lib\\site-packages (from matplotlib) (3.0.9)\n",
            "Requirement already satisfied: python-dateutil>=2.7 in c:\\users\\surya\\anaconda3\\lib\\site-packages (from matplotlib) (2.8.2)\n",
            "Requirement already satisfied: six>=1.5 in c:\\users\\surya\\anaconda3\\lib\\site-packages (from python-dateutil>=2.7->matplotlib) (1.16.0)\n"
          ]
        }
      ],
      "source": [
        "!pip install datasets sentencepiece transformers rouge_score bert_score huggingface_hub\n",
        "!pip install scikit-learn scipy matplotlib --upgrade\n"
      ]
    },
    {
      "cell_type": "code",
      "execution_count": null,
      "metadata": {
        "colab": {
          "base_uri": "https://localhost:8080/"
        },
        "id": "eeZRdB2WWQTy",
        "outputId": "f91c3c95-2c4d-4d6f-fe51-783090506fb7"
      },
      "outputs": [
        {
          "name": "stdout",
          "output_type": "stream",
          "text": [
            "Requirement already satisfied: sacrebleu in c:\\users\\surya\\anaconda3\\lib\\site-packages (2.4.1)\n",
            "Requirement already satisfied: portalocker in c:\\users\\surya\\anaconda3\\lib\\site-packages (from sacrebleu) (2.8.2)\n",
            "Requirement already satisfied: regex in c:\\users\\surya\\anaconda3\\lib\\site-packages (from sacrebleu) (2023.10.3)\n",
            "Requirement already satisfied: tabulate>=0.8.9 in c:\\users\\surya\\anaconda3\\lib\\site-packages (from sacrebleu) (0.9.0)\n",
            "Requirement already satisfied: numpy>=1.17 in c:\\users\\surya\\anaconda3\\lib\\site-packages (from sacrebleu) (1.26.4)\n",
            "Requirement already satisfied: colorama in c:\\users\\surya\\anaconda3\\lib\\site-packages (from sacrebleu) (0.4.6)\n",
            "Requirement already satisfied: lxml in c:\\users\\surya\\anaconda3\\lib\\site-packages (from sacrebleu) (4.9.3)\n",
            "Requirement already satisfied: pywin32>=226 in c:\\users\\surya\\anaconda3\\lib\\site-packages (from portalocker->sacrebleu) (305.1)\n",
            "Requirement already satisfied: accelerate in c:\\users\\surya\\anaconda3\\lib\\site-packages (0.29.3)\n",
            "Requirement already satisfied: numpy>=1.17 in c:\\users\\surya\\anaconda3\\lib\\site-packages (from accelerate) (1.26.4)\n",
            "Requirement already satisfied: packaging>=20.0 in c:\\users\\surya\\anaconda3\\lib\\site-packages (from accelerate) (23.1)\n",
            "Requirement already satisfied: psutil in c:\\users\\surya\\anaconda3\\lib\\site-packages (from accelerate) (5.9.0)\n",
            "Requirement already satisfied: pyyaml in c:\\users\\surya\\anaconda3\\lib\\site-packages (from accelerate) (6.0.1)\n",
            "Requirement already satisfied: torch>=1.10.0 in c:\\users\\surya\\anaconda3\\lib\\site-packages (from accelerate) (2.2.1)\n",
            "Requirement already satisfied: huggingface-hub in c:\\users\\surya\\anaconda3\\lib\\site-packages (from accelerate) (0.20.3)\n",
            "Requirement already satisfied: safetensors>=0.3.1 in c:\\users\\surya\\anaconda3\\lib\\site-packages (from accelerate) (0.4.2)\n",
            "Requirement already satisfied: filelock in c:\\users\\surya\\anaconda3\\lib\\site-packages (from torch>=1.10.0->accelerate) (3.13.1)\n",
            "Requirement already satisfied: typing-extensions>=4.8.0 in c:\\users\\surya\\anaconda3\\lib\\site-packages (from torch>=1.10.0->accelerate) (4.10.0)\n",
            "Requirement already satisfied: sympy in c:\\users\\surya\\anaconda3\\lib\\site-packages (from torch>=1.10.0->accelerate) (1.12)\n",
            "Requirement already satisfied: networkx in c:\\users\\surya\\anaconda3\\lib\\site-packages (from torch>=1.10.0->accelerate) (3.1)\n",
            "Requirement already satisfied: jinja2 in c:\\users\\surya\\anaconda3\\lib\\site-packages (from torch>=1.10.0->accelerate) (3.1.3)\n",
            "Requirement already satisfied: fsspec in c:\\users\\surya\\anaconda3\\lib\\site-packages (from torch>=1.10.0->accelerate) (2023.10.0)\n",
            "Requirement already satisfied: requests in c:\\users\\surya\\anaconda3\\lib\\site-packages (from huggingface-hub->accelerate) (2.31.0)\n",
            "Requirement already satisfied: tqdm>=4.42.1 in c:\\users\\surya\\anaconda3\\lib\\site-packages (from huggingface-hub->accelerate) (4.65.0)\n",
            "Requirement already satisfied: colorama in c:\\users\\surya\\anaconda3\\lib\\site-packages (from tqdm>=4.42.1->huggingface-hub->accelerate) (0.4.6)\n",
            "Requirement already satisfied: MarkupSafe>=2.0 in c:\\users\\surya\\anaconda3\\lib\\site-packages (from jinja2->torch>=1.10.0->accelerate) (2.1.3)\n",
            "Requirement already satisfied: charset-normalizer<4,>=2 in c:\\users\\surya\\anaconda3\\lib\\site-packages (from requests->huggingface-hub->accelerate) (2.0.4)\n",
            "Requirement already satisfied: idna<4,>=2.5 in c:\\users\\surya\\anaconda3\\lib\\site-packages (from requests->huggingface-hub->accelerate) (3.4)\n",
            "Requirement already satisfied: urllib3<3,>=1.21.1 in c:\\users\\surya\\anaconda3\\lib\\site-packages (from requests->huggingface-hub->accelerate) (2.0.7)\n",
            "Requirement already satisfied: certifi>=2017.4.17 in c:\\users\\surya\\anaconda3\\lib\\site-packages (from requests->huggingface-hub->accelerate) (2024.2.2)\n",
            "Requirement already satisfied: mpmath>=0.19 in c:\\users\\surya\\anaconda3\\lib\\site-packages (from sympy->torch>=1.10.0->accelerate) (1.3.0)\n"
          ]
        }
      ],
      "source": [
        "!pip install sacrebleu\n",
        "!pip install accelerate -U"
      ]
    },
    {
      "cell_type": "code",
      "execution_count": null,
      "metadata": {
        "id": "wB-ElPTBWRqy"
      },
      "outputs": [],
      "source": [
        "import os\n",
        "import numpy as np\n",
        "import pandas as pd\n",
        "from datasets import load_dataset\n",
        "from transformers import AutoTokenizer\n",
        "from transformers import EncoderDecoderModel\n",
        "from sacrebleu import corpus_bleu\n",
        "import torch\n",
        "import torch.nn as nn\n",
        "from transformers import pipeline"
      ]
    },
    {
      "cell_type": "code",
      "execution_count": null,
      "metadata": {
        "colab": {
          "base_uri": "https://localhost:8080/"
        },
        "id": "9Lu0BJatWVBw",
        "outputId": "c125fd3a-afc4-4a42-8066-408b937d0804"
      },
      "outputs": [
        {
          "name": "stdout",
          "output_type": "stream",
          "text": [
            "Requirement already satisfied: rouge_score in c:\\users\\surya\\anaconda3\\lib\\site-packages (0.1.2)\n",
            "Requirement already satisfied: nltk in c:\\users\\surya\\anaconda3\\lib\\site-packages (3.8.1)\n",
            "Requirement already satisfied: absl-py in c:\\users\\surya\\anaconda3\\lib\\site-packages (2.1.0)\n",
            "Requirement already satisfied: transformers in c:\\users\\surya\\anaconda3\\lib\\site-packages (4.40.1)\n",
            "Requirement already satisfied: evaluate in c:\\users\\surya\\anaconda3\\lib\\site-packages (0.4.1)\n",
            "Requirement already satisfied: sentencepiece in c:\\users\\surya\\anaconda3\\lib\\site-packages (0.2.0)\n",
            "Requirement already satisfied: numpy in c:\\users\\surya\\anaconda3\\lib\\site-packages (from rouge_score) (1.26.4)\n",
            "Requirement already satisfied: six>=1.14.0 in c:\\users\\surya\\anaconda3\\lib\\site-packages (from rouge_score) (1.16.0)\n",
            "Requirement already satisfied: click in c:\\users\\surya\\anaconda3\\lib\\site-packages (from nltk) (8.1.7)\n",
            "Requirement already satisfied: joblib in c:\\users\\surya\\anaconda3\\lib\\site-packages (from nltk) (1.2.0)\n",
            "Requirement already satisfied: regex>=2021.8.3 in c:\\users\\surya\\anaconda3\\lib\\site-packages (from nltk) (2023.10.3)\n",
            "Requirement already satisfied: tqdm in c:\\users\\surya\\anaconda3\\lib\\site-packages (from nltk) (4.65.0)\n",
            "Requirement already satisfied: filelock in c:\\users\\surya\\anaconda3\\lib\\site-packages (from transformers) (3.13.1)\n",
            "Requirement already satisfied: huggingface-hub<1.0,>=0.19.3 in c:\\users\\surya\\anaconda3\\lib\\site-packages (from transformers) (0.20.3)\n",
            "Requirement already satisfied: packaging>=20.0 in c:\\users\\surya\\anaconda3\\lib\\site-packages (from transformers) (23.1)\n",
            "Requirement already satisfied: pyyaml>=5.1 in c:\\users\\surya\\anaconda3\\lib\\site-packages (from transformers) (6.0.1)\n",
            "Requirement already satisfied: requests in c:\\users\\surya\\anaconda3\\lib\\site-packages (from transformers) (2.31.0)\n",
            "Requirement already satisfied: tokenizers<0.20,>=0.19 in c:\\users\\surya\\anaconda3\\lib\\site-packages (from transformers) (0.19.1)\n",
            "Requirement already satisfied: safetensors>=0.4.1 in c:\\users\\surya\\anaconda3\\lib\\site-packages (from transformers) (0.4.2)\n",
            "Requirement already satisfied: datasets>=2.0.0 in c:\\users\\surya\\anaconda3\\lib\\site-packages (from evaluate) (2.18.0)\n",
            "Requirement already satisfied: dill in c:\\users\\surya\\anaconda3\\lib\\site-packages (from evaluate) (0.3.8)\n",
            "Requirement already satisfied: pandas in c:\\users\\surya\\anaconda3\\lib\\site-packages (from evaluate) (2.1.4)\n",
            "Requirement already satisfied: xxhash in c:\\users\\surya\\anaconda3\\lib\\site-packages (from evaluate) (3.4.1)\n",
            "Requirement already satisfied: multiprocess in c:\\users\\surya\\anaconda3\\lib\\site-packages (from evaluate) (0.70.16)\n",
            "Requirement already satisfied: fsspec[http]>=2021.05.0 in c:\\users\\surya\\anaconda3\\lib\\site-packages (from evaluate) (2023.10.0)\n",
            "Requirement already satisfied: responses<0.19 in c:\\users\\surya\\anaconda3\\lib\\site-packages (from evaluate) (0.18.0)\n",
            "Requirement already satisfied: pyarrow>=12.0.0 in c:\\users\\surya\\anaconda3\\lib\\site-packages (from datasets>=2.0.0->evaluate) (14.0.2)\n",
            "Requirement already satisfied: pyarrow-hotfix in c:\\users\\surya\\anaconda3\\lib\\site-packages (from datasets>=2.0.0->evaluate) (0.6)\n",
            "Requirement already satisfied: aiohttp in c:\\users\\surya\\anaconda3\\lib\\site-packages (from datasets>=2.0.0->evaluate) (3.9.3)\n",
            "Requirement already satisfied: typing-extensions>=3.7.4.3 in c:\\users\\surya\\anaconda3\\lib\\site-packages (from huggingface-hub<1.0,>=0.19.3->transformers) (4.10.0)\n",
            "Requirement already satisfied: charset-normalizer<4,>=2 in c:\\users\\surya\\anaconda3\\lib\\site-packages (from requests->transformers) (2.0.4)\n",
            "Requirement already satisfied: idna<4,>=2.5 in c:\\users\\surya\\anaconda3\\lib\\site-packages (from requests->transformers) (3.4)\n",
            "Requirement already satisfied: urllib3<3,>=1.21.1 in c:\\users\\surya\\anaconda3\\lib\\site-packages (from requests->transformers) (2.0.7)\n",
            "Requirement already satisfied: certifi>=2017.4.17 in c:\\users\\surya\\anaconda3\\lib\\site-packages (from requests->transformers) (2024.2.2)\n",
            "Requirement already satisfied: colorama in c:\\users\\surya\\anaconda3\\lib\\site-packages (from tqdm->nltk) (0.4.6)\n",
            "Requirement already satisfied: python-dateutil>=2.8.2 in c:\\users\\surya\\anaconda3\\lib\\site-packages (from pandas->evaluate) (2.8.2)\n",
            "Requirement already satisfied: pytz>=2020.1 in c:\\users\\surya\\anaconda3\\lib\\site-packages (from pandas->evaluate) (2023.3.post1)\n",
            "Requirement already satisfied: tzdata>=2022.1 in c:\\users\\surya\\anaconda3\\lib\\site-packages (from pandas->evaluate) (2023.3)\n",
            "Requirement already satisfied: aiosignal>=1.1.2 in c:\\users\\surya\\anaconda3\\lib\\site-packages (from aiohttp->datasets>=2.0.0->evaluate) (1.2.0)\n",
            "Requirement already satisfied: attrs>=17.3.0 in c:\\users\\surya\\anaconda3\\lib\\site-packages (from aiohttp->datasets>=2.0.0->evaluate) (23.1.0)\n",
            "Requirement already satisfied: frozenlist>=1.1.1 in c:\\users\\surya\\anaconda3\\lib\\site-packages (from aiohttp->datasets>=2.0.0->evaluate) (1.4.0)\n",
            "Requirement already satisfied: multidict<7.0,>=4.5 in c:\\users\\surya\\anaconda3\\lib\\site-packages (from aiohttp->datasets>=2.0.0->evaluate) (6.0.4)\n",
            "Requirement already satisfied: yarl<2.0,>=1.0 in c:\\users\\surya\\anaconda3\\lib\\site-packages (from aiohttp->datasets>=2.0.0->evaluate) (1.9.3)\n"
          ]
        },
        {
          "name": "stderr",
          "output_type": "stream",
          "text": [
            "ERROR: Could not find a version that satisfies the requirement bleurt (from versions: none)\n",
            "ERROR: No matching distribution found for bleurt\n"
          ]
        }
      ],
      "source": [
        "!pip3 install rouge_score nltk absl-py transformers evaluate sentencepiece\n",
        "!pip3 install bleurt"
      ]
    },
    {
      "cell_type": "code",
      "execution_count": null,
      "metadata": {
        "id": "BDgp9m3DWnT8"
      },
      "outputs": [],
      "source": [
        "test_dataset = pd.DataFrame(test_dataset)"
      ]
    },
    {
      "cell_type": "code",
      "execution_count": null,
      "metadata": {
        "colab": {
          "base_uri": "https://localhost:8080/",
          "height": 536
        },
        "id": "pOJNVmD5WpDE",
        "outputId": "f317bc17-2246-4a14-890b-52fb4b8b6a1d"
      },
      "outputs": [
        {
          "data": {
            "text/html": [
              "<div>\n",
              "<style scoped>\n",
              "    .dataframe tbody tr th:only-of-type {\n",
              "        vertical-align: middle;\n",
              "    }\n",
              "\n",
              "    .dataframe tbody tr th {\n",
              "        vertical-align: top;\n",
              "    }\n",
              "\n",
              "    .dataframe thead th {\n",
              "        text-align: right;\n",
              "    }\n",
              "</style>\n",
              "<table border=\"1\" class=\"dataframe\">\n",
              "  <thead>\n",
              "    <tr style=\"text-align: right;\">\n",
              "      <th></th>\n",
              "      <th>input_text</th>\n",
              "      <th>output_text</th>\n",
              "      <th>input_ids</th>\n",
              "      <th>attention_mask</th>\n",
              "      <th>labels</th>\n",
              "    </tr>\n",
              "  </thead>\n",
              "  <tbody>\n",
              "    <tr>\n",
              "      <th>0</th>\n",
              "      <td>i am graduating so i am looking for a job i wa...</td>\n",
              "      <td>that sounds super exciting not the not getting...</td>\n",
              "      <td>[3, 23, 183, 20220, 53, 78, 3, 23, 183, 479, 2...</td>\n",
              "      <td>[1, 1, 1, 1, 1, 1, 1, 1, 1, 1, 1, 1, 1, 1, 1, ...</td>\n",
              "      <td>[24, 2993, 1355, 2949, 59, 8, 59, 652, 3, 9, 6...</td>\n",
              "    </tr>\n",
              "    <tr>\n",
              "      <th>1</th>\n",
              "      <td>are you and your husband nearing graduation &lt;/s&gt;</td>\n",
              "      <td>i have a year left but hes double majoring and...</td>\n",
              "      <td>[33, 25, 11, 39, 2553, 1084, 53, 14027, 1, 0, ...</td>\n",
              "      <td>[1, 1, 1, 1, 1, 1, 1, 1, 1, 0, 0, 0, 0, 0, 0, ...</td>\n",
              "      <td>[3, 23, 43, 3, 9, 215, 646, 68, 3, 88, 7, 1486...</td>\n",
              "    </tr>\n",
              "    <tr>\n",
              "      <th>2</th>\n",
              "      <td>oh wow &lt;/s&gt; double majoring sounds like a lot ...</td>\n",
              "      <td>i personally believe he is ray &lt;/s&gt; oops &lt;/s&gt; ...</td>\n",
              "      <td>[3, 32, 107, 2275, 210, 1, 1486, 779, 53, 2993...</td>\n",
              "      <td>[1, 1, 1, 1, 1, 1, 1, 1, 1, 1, 1, 1, 1, 1, 1, ...</td>\n",
              "      <td>[3, 23, 4828, 857, 3, 88, 19, 3, 2866, 1, 3, 6...</td>\n",
              "    </tr>\n",
              "    <tr>\n",
              "      <th>3</th>\n",
              "      <td>hi there &lt;/s&gt;</td>\n",
              "      <td>hey whats up &lt;/s&gt;</td>\n",
              "      <td>[7102, 132, 1, 0, 0, 0, 0, 0, 0, 0, 0, 0, 0, 0...</td>\n",
              "      <td>[1, 1, 1, 0, 0, 0, 0, 0, 0, 0, 0, 0, 0, 0, 0, ...</td>\n",
              "      <td>[3, 13133, 125, 7, 95, 1, 0, 0, 0, 0, 0, 0, 0,...</td>\n",
              "    </tr>\n",
              "    <tr>\n",
              "      <th>4</th>\n",
              "      <td>not much just packing for a trip what about yo...</td>\n",
              "      <td>im just layin around being lazy because i dona...</td>\n",
              "      <td>[59, 231, 131, 12935, 21, 3, 9, 1469, 125, 81,...</td>\n",
              "      <td>[1, 1, 1, 1, 1, 1, 1, 1, 1, 1, 1, 1, 0, 0, 0, ...</td>\n",
              "      <td>[256, 131, 8260, 77, 300, 271, 19743, 250, 3, ...</td>\n",
              "    </tr>\n",
              "    <tr>\n",
              "      <th>5</th>\n",
              "      <td>oh thats awesome thats kind of funny because i...</td>\n",
              "      <td>ugh they call me every day i had to block the ...</td>\n",
              "      <td>[3, 32, 107, 24, 7, 2879, 24, 7, 773, 13, 6613...</td>\n",
              "      <td>[1, 1, 1, 1, 1, 1, 1, 1, 1, 1, 1, 1, 1, 1, 1, ...</td>\n",
              "      <td>[3, 14439, 79, 580, 140, 334, 239, 3, 23, 141,...</td>\n",
              "    </tr>\n",
              "    <tr>\n",
              "      <th>6</th>\n",
              "      <td>oh really i live in a small town so we dont re...</td>\n",
              "      <td>cool do you play violin &lt;/s&gt; and its nice to m...</td>\n",
              "      <td>[3, 32, 107, 310, 3, 23, 619, 16, 3, 9, 422, 1...</td>\n",
              "      <td>[1, 1, 1, 1, 1, 1, 1, 1, 1, 1, 1, 1, 1, 1, 1, ...</td>\n",
              "      <td>[1633, 103, 25, 577, 24325, 1, 11, 165, 1245, ...</td>\n",
              "    </tr>\n",
              "    <tr>\n",
              "      <th>7</th>\n",
              "      <td>yeah i actually do play violin &lt;/s&gt; how did yo...</td>\n",
              "      <td>just lucky i guess i was originally going to g...</td>\n",
              "      <td>[17945, 3, 23, 700, 103, 577, 24325, 1, 149, 4...</td>\n",
              "      <td>[1, 1, 1, 1, 1, 1, 1, 1, 1, 1, 1, 1, 1, 0, 0, ...</td>\n",
              "      <td>[131, 5722, 3, 23, 3382, 3, 23, 47, 5330, 352,...</td>\n",
              "    </tr>\n",
              "    <tr>\n",
              "      <th>8</th>\n",
              "      <td>i have been playing for 12 years &lt;/s&gt; do you p...</td>\n",
              "      <td>wow thats awesome &lt;/s&gt; i used to play violin a...</td>\n",
              "      <td>[3, 23, 43, 118, 1556, 21, 586, 203, 1, 103, 2...</td>\n",
              "      <td>[1, 1, 1, 1, 1, 1, 1, 1, 1, 1, 1, 1, 1, 1, 1, ...</td>\n",
              "      <td>[2275, 210, 24, 7, 2879, 1, 3, 23, 261, 12, 57...</td>\n",
              "    </tr>\n",
              "    <tr>\n",
              "      <th>9</th>\n",
              "      <td>thanks and wow 8 years on piano is super good ...</td>\n",
              "      <td>ill be a freshman what about you &lt;/s&gt;</td>\n",
              "      <td>[2049, 11, 2275, 210, 505, 203, 30, 8355, 19, ...</td>\n",
              "      <td>[1, 1, 1, 1, 1, 1, 1, 1, 1, 1, 1, 1, 1, 1, 1, ...</td>\n",
              "      <td>[3, 1092, 36, 3, 9, 22857, 125, 81, 25, 1, 0, ...</td>\n",
              "    </tr>\n",
              "  </tbody>\n",
              "</table>\n",
              "</div>"
            ],
            "text/plain": [
              "                                          input_text  \\\n",
              "0  i am graduating so i am looking for a job i wa...   \n",
              "1  are you and your husband nearing graduation </s>    \n",
              "2  oh wow </s> double majoring sounds like a lot ...   \n",
              "3                                     hi there </s>    \n",
              "4  not much just packing for a trip what about yo...   \n",
              "5  oh thats awesome thats kind of funny because i...   \n",
              "6  oh really i live in a small town so we dont re...   \n",
              "7  yeah i actually do play violin </s> how did yo...   \n",
              "8  i have been playing for 12 years </s> do you p...   \n",
              "9  thanks and wow 8 years on piano is super good ...   \n",
              "\n",
              "                                         output_text  \\\n",
              "0  that sounds super exciting not the not getting...   \n",
              "1  i have a year left but hes double majoring and...   \n",
              "2  i personally believe he is ray </s> oops </s> ...   \n",
              "3                                 hey whats up </s>    \n",
              "4  im just layin around being lazy because i dona...   \n",
              "5  ugh they call me every day i had to block the ...   \n",
              "6  cool do you play violin </s> and its nice to m...   \n",
              "7  just lucky i guess i was originally going to g...   \n",
              "8  wow thats awesome </s> i used to play violin a...   \n",
              "9             ill be a freshman what about you </s>    \n",
              "\n",
              "                                           input_ids  \\\n",
              "0  [3, 23, 183, 20220, 53, 78, 3, 23, 183, 479, 2...   \n",
              "1  [33, 25, 11, 39, 2553, 1084, 53, 14027, 1, 0, ...   \n",
              "2  [3, 32, 107, 2275, 210, 1, 1486, 779, 53, 2993...   \n",
              "3  [7102, 132, 1, 0, 0, 0, 0, 0, 0, 0, 0, 0, 0, 0...   \n",
              "4  [59, 231, 131, 12935, 21, 3, 9, 1469, 125, 81,...   \n",
              "5  [3, 32, 107, 24, 7, 2879, 24, 7, 773, 13, 6613...   \n",
              "6  [3, 32, 107, 310, 3, 23, 619, 16, 3, 9, 422, 1...   \n",
              "7  [17945, 3, 23, 700, 103, 577, 24325, 1, 149, 4...   \n",
              "8  [3, 23, 43, 118, 1556, 21, 586, 203, 1, 103, 2...   \n",
              "9  [2049, 11, 2275, 210, 505, 203, 30, 8355, 19, ...   \n",
              "\n",
              "                                      attention_mask  \\\n",
              "0  [1, 1, 1, 1, 1, 1, 1, 1, 1, 1, 1, 1, 1, 1, 1, ...   \n",
              "1  [1, 1, 1, 1, 1, 1, 1, 1, 1, 0, 0, 0, 0, 0, 0, ...   \n",
              "2  [1, 1, 1, 1, 1, 1, 1, 1, 1, 1, 1, 1, 1, 1, 1, ...   \n",
              "3  [1, 1, 1, 0, 0, 0, 0, 0, 0, 0, 0, 0, 0, 0, 0, ...   \n",
              "4  [1, 1, 1, 1, 1, 1, 1, 1, 1, 1, 1, 1, 0, 0, 0, ...   \n",
              "5  [1, 1, 1, 1, 1, 1, 1, 1, 1, 1, 1, 1, 1, 1, 1, ...   \n",
              "6  [1, 1, 1, 1, 1, 1, 1, 1, 1, 1, 1, 1, 1, 1, 1, ...   \n",
              "7  [1, 1, 1, 1, 1, 1, 1, 1, 1, 1, 1, 1, 1, 0, 0, ...   \n",
              "8  [1, 1, 1, 1, 1, 1, 1, 1, 1, 1, 1, 1, 1, 1, 1, ...   \n",
              "9  [1, 1, 1, 1, 1, 1, 1, 1, 1, 1, 1, 1, 1, 1, 1, ...   \n",
              "\n",
              "                                              labels  \n",
              "0  [24, 2993, 1355, 2949, 59, 8, 59, 652, 3, 9, 6...  \n",
              "1  [3, 23, 43, 3, 9, 215, 646, 68, 3, 88, 7, 1486...  \n",
              "2  [3, 23, 4828, 857, 3, 88, 19, 3, 2866, 1, 3, 6...  \n",
              "3  [3, 13133, 125, 7, 95, 1, 0, 0, 0, 0, 0, 0, 0,...  \n",
              "4  [256, 131, 8260, 77, 300, 271, 19743, 250, 3, ...  \n",
              "5  [3, 14439, 79, 580, 140, 334, 239, 3, 23, 141,...  \n",
              "6  [1633, 103, 25, 577, 24325, 1, 11, 165, 1245, ...  \n",
              "7  [131, 5722, 3, 23, 3382, 3, 23, 47, 5330, 352,...  \n",
              "8  [2275, 210, 24, 7, 2879, 1, 3, 23, 261, 12, 57...  \n",
              "9  [3, 1092, 36, 3, 9, 22857, 125, 81, 25, 1, 0, ...  "
            ]
          },
          "execution_count": 20,
          "metadata": {},
          "output_type": "execute_result"
        }
      ],
      "source": [
        "test_dataset[:10]"
      ]
    },
    {
      "cell_type": "code",
      "execution_count": null,
      "metadata": {
        "colab": {
          "base_uri": "https://localhost:8080/"
        },
        "id": "-S1iwBJmWrBP",
        "outputId": "e0b1336e-a268-45e5-94f4-bbc3ec8e751e"
      },
      "outputs": [
        {
          "name": "stdout",
          "output_type": "stream",
          "text": [
            "i am graduating so i am looking for a job i was going to be a river rafting guide for fun before getting a full time job but they didnt hire me so i think ill just </s> mountain bike a bunch </s> \n",
            "that sounds super exciting not the not getting a job part yay for graduation </s> \n",
            "are you and your husband nearing graduation </s> \n",
            "i have a year left but hes double majoring and has three more to go </s> \n",
            "oh wow </s> double majoring sounds like a lot of work i have a minor but mostly because i switched majors but had only one class left for a minor </s> \n",
            "i personally believe he is ray </s> oops </s> i personally believe he is crazy but he enjoys it </s> \n",
            "hi there </s> \n",
            "hey whats up </s> \n",
            "not much just packing for a trip what about you </s> \n",
            "im just layin around being lazy because i donated blood today haha </s> where are you going on your trip </s> \n",
            "oh thats awesome thats kind of funny because i just got called by red cross to donate blood d </s> and i leave tomorrow at 1030 </s> can i ask your name its not showing up on the chats </s> \n",
            "ugh they call me every day i had to block the number because it was getting annoying </s> and you can call me julia thats weird it isnt showing up on the chat </s> are you going anywhere fun </s> \n",
            "oh really i live in a small town so we dont really have blood drives near me very often so they dont call too much </s> ok nice to meet you julia </s> and im actually going up to lagoon for an orchestra competition </s> \n",
            "cool do you play violin </s> and its nice to meet you too sophia </s> \n",
            "yeah i actually do play violin </s> how did you guess </s> \n",
            "just lucky i guess i was originally going to go for bass or cello </s> how long have you been playing </s> \n",
            "i have been playing for 12 years </s> do you play any instruments </s> \n",
            "wow thats awesome </s> i used to play violin and cello in middle school but that was a long time ago haha </s> i also played piano for like 8 years but i dont do that much anymore either </s> \n",
            "thanks and wow 8 years on piano is super good i played that for a few years but got too busy </s> what year will you be at byu this fall </s> \n",
            "ill be a freshman what about you </s> \n"
          ]
        }
      ],
      "source": [
        "for index, row in test_dataset[0:10].iterrows():\n",
        "   input_text, label = row['input_text'], row['output_text']\n",
        "   print(input_text)\n",
        "   print(label)"
      ]
    },
    {
      "cell_type": "code",
      "execution_count": null,
      "metadata": {
        "id": "XQUCu63nh8ha"
      },
      "outputs": [],
      "source": [
        "def generate_text(prompt_text, model, tokenizer, device):\n",
        "\n",
        "    input_ids = tokenizer(prompt_text, return_tensors='pt', padding=\"max_length\", max_length=256, truncation=True)\n",
        "\n",
        "    input_ids = input_ids.to(device)\n",
        "\n",
        "    outputs = model.generate(input_ids=input_ids['input_ids'], max_length=50, do_sample=True, num_beams=5, no_repeat_ngram_size=2)\n",
        "\n",
        "    generated_text = tokenizer.decode(outputs[0], skip_special_tokens=True)\n",
        "\n",
        "    return generated_text"
      ]
    },
    {
      "cell_type": "code",
      "execution_count": null,
      "metadata": {
        "colab": {
          "base_uri": "https://localhost:8080/"
        },
        "id": "sBKofPd5iFDI",
        "outputId": "22b2267d-c1dc-442e-b34a-18be1482d6c4"
      },
      "outputs": [
        {
          "data": {
            "text/plain": [
              "6686"
            ]
          },
          "execution_count": 23,
          "metadata": {},
          "output_type": "execute_result"
        }
      ],
      "source": [
        "len(test_dataset)"
      ]
    },
    {
      "cell_type": "code",
      "execution_count": null,
      "metadata": {
        "id": "ZoBncKW0Wsw5",
        "outputId": "50b24cf6-9b93-4793-a85d-0613712adbcd"
      },
      "outputs": [
        {
          "name": "stderr",
          "output_type": "stream",
          "text": [
            "C:\\Users\\surya\\anaconda3\\Lib\\site-packages\\transformers\\models\\t5\\tokenization_t5.py:290: UserWarning: This sequence already has </s>. In future versions this behavior may lead to duplicated eos tokens being added.\n",
            "  warnings.warn(\n"
          ]
        }
      ],
      "source": [
        "original_sentences = []\n",
        "generated_sentences = []\n",
        "start = 0\n",
        "end = 50\n",
        "for index, row in test_dataset[start:end].iterrows():\n",
        "    input_text, label = row['input_text'], row['output_text']\n",
        "    generated_sentences.append(generate_text(input_text, model, tokenizer, device))\n",
        "    original_sentences.append(label)"
      ]
    },
    {
      "cell_type": "code",
      "execution_count": null,
      "metadata": {
        "colab": {
          "base_uri": "https://localhost:8080/"
        },
        "id": "zTghuDTbW0Xs",
        "outputId": "8844ef73-fa95-45dd-f5b8-9dac89b35844"
      },
      "outputs": [
        {
          "data": {
            "text/plain": [
              "(50, 50)"
            ]
          },
          "execution_count": 25,
          "metadata": {},
          "output_type": "execute_result"
        }
      ],
      "source": [
        "len(original_sentences), len(generated_sentences)"
      ]
    },
    {
      "cell_type": "code",
      "execution_count": null,
      "metadata": {
        "id": "SUVfbZ2DNmuW",
        "outputId": "86d846b2-c7a5-4d11-fd37-9820f28bf0b8"
      },
      "outputs": [
        {
          "data": {
            "text/plain": [
              "0.139221177851228"
            ]
          },
          "execution_count": 26,
          "metadata": {},
          "output_type": "execute_result"
        }
      ],
      "source": [
        "from nltk.translate.bleu_score import corpus_bleu\n",
        "\n",
        "original_tokenized = [sentence.split() for sentence in original_sentences]\n",
        "generated_tokenized = [sentence.split() for sentence in generated_sentences]\n",
        "\n",
        "bleu1_score = corpus_bleu([[ref] for ref in original_tokenized], generated_tokenized, weights=(1, 0, 0, 0))\n",
        "\n",
        "bleu1_score\n"
      ]
    },
    {
      "cell_type": "code",
      "execution_count": null,
      "metadata": {
        "colab": {
          "referenced_widgets": [
            "17a72a5e615c410691e7e759e7dbbbc5",
            "ad89c2de58ac44359dd23302a8dd127a",
            "003b1620ceb64650802d55a3421aef70",
            "12cc025e155a4be98644955b917d3710"
          ]
        },
        "id": "F9FMZqDqNmuX",
        "outputId": "3fc0b34a-80d6-47e3-9cff-b683689d883f"
      },
      "outputs": [
        {
          "name": "stderr",
          "output_type": "stream",
          "text": [
            "Some weights of RobertaModel were not initialized from the model checkpoint at roberta-large and are newly initialized: ['roberta.pooler.dense.bias', 'roberta.pooler.dense.weight']\n",
            "You should probably TRAIN this model on a down-stream task to be able to use it for predictions and inference.\n"
          ]
        },
        {
          "name": "stdout",
          "output_type": "stream",
          "text": [
            "calculating scores...\n",
            "computing bert embedding.\n"
          ]
        },
        {
          "data": {
            "application/vnd.jupyter.widget-view+json": {
              "model_id": "003b1620ceb64650802d55a3421aef70",
              "version_major": 2,
              "version_minor": 0
            },
            "text/plain": [
              "  0%|          | 0/2 [00:00<?, ?it/s]"
            ]
          },
          "metadata": {},
          "output_type": "display_data"
        },
        {
          "name": "stdout",
          "output_type": "stream",
          "text": [
            "computing greedy matching.\n"
          ]
        },
        {
          "data": {
            "application/vnd.jupyter.widget-view+json": {
              "model_id": "12cc025e155a4be98644955b917d3710",
              "version_major": 2,
              "version_minor": 0
            },
            "text/plain": [
              "  0%|          | 0/1 [00:00<?, ?it/s]"
            ]
          },
          "metadata": {},
          "output_type": "display_data"
        },
        {
          "name": "stdout",
          "output_type": "stream",
          "text": [
            "done in 0.55 seconds, 91.21 sentences/sec\n"
          ]
        },
        {
          "data": {
            "text/plain": [
              "0.8250133395195007"
            ]
          },
          "execution_count": 27,
          "metadata": {},
          "output_type": "execute_result"
        }
      ],
      "source": [
        "from bert_score import score\n",
        "\n",
        "P, R, F1 = score(cands=generated_sentences, refs=original_sentences, lang=\"en\", verbose=True)\n",
        "\n",
        "F1.mean().item()\n"
      ]
    },
    {
      "cell_type": "code",
      "execution_count": null,
      "metadata": {
        "colab": {
          "base_uri": "https://localhost:8080/"
        },
        "id": "yeUUXj2bW5OJ",
        "outputId": "ae167525-4904-480b-81b0-b8f03d6d6628"
      },
      "outputs": [
        {
          "data": {
            "text/plain": [
              "{'rouge1': 0.13979108972702375,\n",
              " 'rouge2': 0.015832660442918162,\n",
              " 'rougeL': 0.11590930668026106,\n",
              " 'rougeLsum': 0.11627967010708015}"
            ]
          },
          "execution_count": 28,
          "metadata": {},
          "output_type": "execute_result"
        }
      ],
      "source": [
        "from evaluate import load\n",
        "\n",
        "rouge = load('rouge')\n",
        "\n",
        "rouge_score = rouge.compute(predictions=generated_sentences, references=original_sentences)\n",
        "\n",
        "rouge_score"
      ]
    },
    {
      "cell_type": "code",
      "execution_count": null,
      "metadata": {
        "colab": {
          "base_uri": "https://localhost:8080/"
        },
        "id": "qF3VdMb7W6n6",
        "outputId": "4633fadf-43d6-434f-dbad-855b9e4316cc"
      },
      "outputs": [
        {
          "name": "stderr",
          "output_type": "stream",
          "text": [
            "C:\\Users\\surya\\anaconda3\\Lib\\site-packages\\transformers\\models\\t5\\tokenization_t5.py:290: UserWarning: This sequence already has </s>. In future versions this behavior may lead to duplicated eos tokens being added.\n",
            "  warnings.warn(\n"
          ]
        },
        {
          "name": "stdout",
          "output_type": "stream",
          "text": [
            "Loss: 0.15610608458518982\n",
            "Perplexity: 1.1689502000808716\n"
          ]
        }
      ],
      "source": [
        "input_ids_original = tokenizer(original_sentences, padding=\"max_length\", max_length=256, return_tensors=\"pt\", truncation=True)\n",
        "\n",
        "input_ids_generated = tokenizer(generated_sentences, padding=\"max_length\", max_length=256, return_tensors=\"pt\", truncation=True)\n",
        "\n",
        "device = torch.device(\"cuda:0\" if torch.cuda.is_available() else \"cpu\")\n",
        "input_ids_original = input_ids_original.to(device)\n",
        "input_ids_generated = input_ids_generated.to(device)\n",
        "\n",
        "outputs = model(input_ids=input_ids_original[\"input_ids\"], labels=input_ids_generated[\"input_ids\"])\n",
        "\n",
        "loss = outputs.loss.item()\n",
        "perplexity = torch.exp(outputs.loss).item()\n",
        "\n",
        "print(f\"Loss: {loss}\")\n",
        "print(f\"Perplexity: {perplexity}\")"
      ]
    }
  ],
  "metadata": {
    "accelerator": "GPU",
    "colab": {
      "gpuType": "T4",
      "provenance": []
    },
    "kernelspec": {
      "display_name": "Python 3 (ipykernel)",
      "language": "python",
      "name": "python3"
    },
    "language_info": {
      "codemirror_mode": {
        "name": "ipython",
        "version": 3
      },
      "file_extension": ".py",
      "mimetype": "text/x-python",
      "name": "python",
      "nbconvert_exporter": "python",
      "pygments_lexer": "ipython3",
      "version": "3.11.5"
    },
    "widgets": {
      "application/vnd.jupyter.widget-state+json": {
        "0964549b0c7c4e1d8a8c176dd69cc6c5": {
          "model_module": "@jupyter-widgets/base",
          "model_module_version": "1.2.0",
          "model_name": "LayoutModel",
          "state": {
            "_model_module": "@jupyter-widgets/base",
            "_model_module_version": "1.2.0",
            "_model_name": "LayoutModel",
            "_view_count": null,
            "_view_module": "@jupyter-widgets/base",
            "_view_module_version": "1.2.0",
            "_view_name": "LayoutView",
            "align_content": null,
            "align_items": null,
            "align_self": null,
            "border": null,
            "bottom": null,
            "display": null,
            "flex": null,
            "flex_flow": null,
            "grid_area": null,
            "grid_auto_columns": null,
            "grid_auto_flow": null,
            "grid_auto_rows": null,
            "grid_column": null,
            "grid_gap": null,
            "grid_row": null,
            "grid_template_areas": null,
            "grid_template_columns": null,
            "grid_template_rows": null,
            "height": null,
            "justify_content": null,
            "justify_items": null,
            "left": null,
            "margin": null,
            "max_height": null,
            "max_width": null,
            "min_height": null,
            "min_width": null,
            "object_fit": null,
            "object_position": null,
            "order": null,
            "overflow": null,
            "overflow_x": null,
            "overflow_y": null,
            "padding": null,
            "right": null,
            "top": null,
            "visibility": null,
            "width": null
          }
        },
        "0d85b69492e4469e9f2e612cda0f326b": {
          "model_module": "@jupyter-widgets/base",
          "model_module_version": "1.2.0",
          "model_name": "LayoutModel",
          "state": {
            "_model_module": "@jupyter-widgets/base",
            "_model_module_version": "1.2.0",
            "_model_name": "LayoutModel",
            "_view_count": null,
            "_view_module": "@jupyter-widgets/base",
            "_view_module_version": "1.2.0",
            "_view_name": "LayoutView",
            "align_content": null,
            "align_items": null,
            "align_self": null,
            "border": null,
            "bottom": null,
            "display": null,
            "flex": null,
            "flex_flow": null,
            "grid_area": null,
            "grid_auto_columns": null,
            "grid_auto_flow": null,
            "grid_auto_rows": null,
            "grid_column": null,
            "grid_gap": null,
            "grid_row": null,
            "grid_template_areas": null,
            "grid_template_columns": null,
            "grid_template_rows": null,
            "height": null,
            "justify_content": null,
            "justify_items": null,
            "left": null,
            "margin": null,
            "max_height": null,
            "max_width": null,
            "min_height": null,
            "min_width": null,
            "object_fit": null,
            "object_position": null,
            "order": null,
            "overflow": null,
            "overflow_x": null,
            "overflow_y": null,
            "padding": null,
            "right": null,
            "top": null,
            "visibility": null,
            "width": null
          }
        },
        "117c60f68083408b80cf6109384193bb": {
          "model_module": "@jupyter-widgets/base",
          "model_module_version": "1.2.0",
          "model_name": "LayoutModel",
          "state": {
            "_model_module": "@jupyter-widgets/base",
            "_model_module_version": "1.2.0",
            "_model_name": "LayoutModel",
            "_view_count": null,
            "_view_module": "@jupyter-widgets/base",
            "_view_module_version": "1.2.0",
            "_view_name": "LayoutView",
            "align_content": null,
            "align_items": null,
            "align_self": null,
            "border": null,
            "bottom": null,
            "display": null,
            "flex": null,
            "flex_flow": null,
            "grid_area": null,
            "grid_auto_columns": null,
            "grid_auto_flow": null,
            "grid_auto_rows": null,
            "grid_column": null,
            "grid_gap": null,
            "grid_row": null,
            "grid_template_areas": null,
            "grid_template_columns": null,
            "grid_template_rows": null,
            "height": null,
            "justify_content": null,
            "justify_items": null,
            "left": null,
            "margin": null,
            "max_height": null,
            "max_width": null,
            "min_height": null,
            "min_width": null,
            "object_fit": null,
            "object_position": null,
            "order": null,
            "overflow": null,
            "overflow_x": null,
            "overflow_y": null,
            "padding": null,
            "right": null,
            "top": null,
            "visibility": null,
            "width": null
          }
        },
        "150a14ea1ba947678d9875c9c515049e": {
          "model_module": "@jupyter-widgets/base",
          "model_module_version": "1.2.0",
          "model_name": "LayoutModel",
          "state": {
            "_model_module": "@jupyter-widgets/base",
            "_model_module_version": "1.2.0",
            "_model_name": "LayoutModel",
            "_view_count": null,
            "_view_module": "@jupyter-widgets/base",
            "_view_module_version": "1.2.0",
            "_view_name": "LayoutView",
            "align_content": null,
            "align_items": null,
            "align_self": null,
            "border": null,
            "bottom": null,
            "display": null,
            "flex": null,
            "flex_flow": null,
            "grid_area": null,
            "grid_auto_columns": null,
            "grid_auto_flow": null,
            "grid_auto_rows": null,
            "grid_column": null,
            "grid_gap": null,
            "grid_row": null,
            "grid_template_areas": null,
            "grid_template_columns": null,
            "grid_template_rows": null,
            "height": null,
            "justify_content": null,
            "justify_items": null,
            "left": null,
            "margin": null,
            "max_height": null,
            "max_width": null,
            "min_height": null,
            "min_width": null,
            "object_fit": null,
            "object_position": null,
            "order": null,
            "overflow": null,
            "overflow_x": null,
            "overflow_y": null,
            "padding": null,
            "right": null,
            "top": null,
            "visibility": null,
            "width": null
          }
        },
        "19ebf27349384b57a6b115714c151874": {
          "model_module": "@jupyter-widgets/controls",
          "model_module_version": "1.5.0",
          "model_name": "CheckboxModel",
          "state": {
            "_dom_classes": [],
            "_model_module": "@jupyter-widgets/controls",
            "_model_module_version": "1.5.0",
            "_model_name": "CheckboxModel",
            "_view_count": null,
            "_view_module": "@jupyter-widgets/controls",
            "_view_module_version": "1.5.0",
            "_view_name": "CheckboxView",
            "description": "Add token as git credential?",
            "description_tooltip": null,
            "disabled": false,
            "indent": true,
            "layout": "IPY_MODEL_7a78988523164bba80f675c3fa1e0f86",
            "style": "IPY_MODEL_7e6c5f51d8bc431f9bc2d30e2c805b11",
            "value": true
          }
        },
        "27c651ec9dd841438c4cc2e48244b639": {
          "model_module": "@jupyter-widgets/controls",
          "model_module_version": "1.5.0",
          "model_name": "ProgressStyleModel",
          "state": {
            "_model_module": "@jupyter-widgets/controls",
            "_model_module_version": "1.5.0",
            "_model_name": "ProgressStyleModel",
            "_view_count": null,
            "_view_module": "@jupyter-widgets/base",
            "_view_module_version": "1.2.0",
            "_view_name": "StyleView",
            "bar_color": null,
            "description_width": ""
          }
        },
        "2dff14236d4e461194f22dde8a5bd8be": {
          "model_module": "@jupyter-widgets/base",
          "model_module_version": "1.2.0",
          "model_name": "LayoutModel",
          "state": {
            "_model_module": "@jupyter-widgets/base",
            "_model_module_version": "1.2.0",
            "_model_name": "LayoutModel",
            "_view_count": null,
            "_view_module": "@jupyter-widgets/base",
            "_view_module_version": "1.2.0",
            "_view_name": "LayoutView",
            "align_content": null,
            "align_items": "center",
            "align_self": null,
            "border": null,
            "bottom": null,
            "display": "flex",
            "flex": null,
            "flex_flow": "column",
            "grid_area": null,
            "grid_auto_columns": null,
            "grid_auto_flow": null,
            "grid_auto_rows": null,
            "grid_column": null,
            "grid_gap": null,
            "grid_row": null,
            "grid_template_areas": null,
            "grid_template_columns": null,
            "grid_template_rows": null,
            "height": null,
            "justify_content": null,
            "justify_items": null,
            "left": null,
            "margin": null,
            "max_height": null,
            "max_width": null,
            "min_height": null,
            "min_width": null,
            "object_fit": null,
            "object_position": null,
            "order": null,
            "overflow": null,
            "overflow_x": null,
            "overflow_y": null,
            "padding": null,
            "right": null,
            "top": null,
            "visibility": null,
            "width": "50%"
          }
        },
        "4708d41d03244c8cb8ec817cf7907ad4": {
          "model_module": "@jupyter-widgets/base",
          "model_module_version": "1.2.0",
          "model_name": "LayoutModel",
          "state": {
            "_model_module": "@jupyter-widgets/base",
            "_model_module_version": "1.2.0",
            "_model_name": "LayoutModel",
            "_view_count": null,
            "_view_module": "@jupyter-widgets/base",
            "_view_module_version": "1.2.0",
            "_view_name": "LayoutView",
            "align_content": null,
            "align_items": null,
            "align_self": null,
            "border": null,
            "bottom": null,
            "display": null,
            "flex": null,
            "flex_flow": null,
            "grid_area": null,
            "grid_auto_columns": null,
            "grid_auto_flow": null,
            "grid_auto_rows": null,
            "grid_column": null,
            "grid_gap": null,
            "grid_row": null,
            "grid_template_areas": null,
            "grid_template_columns": null,
            "grid_template_rows": null,
            "height": null,
            "justify_content": null,
            "justify_items": null,
            "left": null,
            "margin": null,
            "max_height": null,
            "max_width": null,
            "min_height": null,
            "min_width": null,
            "object_fit": null,
            "object_position": null,
            "order": null,
            "overflow": null,
            "overflow_x": null,
            "overflow_y": null,
            "padding": null,
            "right": null,
            "top": null,
            "visibility": null,
            "width": null
          }
        },
        "51e646508e7947f8aed8fac601ae5ffb": {
          "model_module": "@jupyter-widgets/controls",
          "model_module_version": "1.5.0",
          "model_name": "FloatProgressModel",
          "state": {
            "_dom_classes": [],
            "_model_module": "@jupyter-widgets/controls",
            "_model_module_version": "1.5.0",
            "_model_name": "FloatProgressModel",
            "_view_count": null,
            "_view_module": "@jupyter-widgets/controls",
            "_view_module_version": "1.5.0",
            "_view_name": "ProgressView",
            "bar_style": "success",
            "description": "",
            "description_tooltip": null,
            "layout": "IPY_MODEL_0964549b0c7c4e1d8a8c176dd69cc6c5",
            "max": 66853,
            "min": 0,
            "orientation": "horizontal",
            "style": "IPY_MODEL_27c651ec9dd841438c4cc2e48244b639",
            "value": 66853
          }
        },
        "6a42f88b5ec34c5dbcf793436b950b49": {
          "model_module": "@jupyter-widgets/controls",
          "model_module_version": "1.5.0",
          "model_name": "DescriptionStyleModel",
          "state": {
            "_model_module": "@jupyter-widgets/controls",
            "_model_module_version": "1.5.0",
            "_model_name": "DescriptionStyleModel",
            "_view_count": null,
            "_view_module": "@jupyter-widgets/base",
            "_view_module_version": "1.2.0",
            "_view_name": "StyleView",
            "description_width": ""
          }
        },
        "6a5a201fd7eb41bb869258e5053d2661": {
          "model_module": "@jupyter-widgets/controls",
          "model_module_version": "1.5.0",
          "model_name": "VBoxModel",
          "state": {
            "_dom_classes": [],
            "_model_module": "@jupyter-widgets/controls",
            "_model_module_version": "1.5.0",
            "_model_name": "VBoxModel",
            "_view_count": null,
            "_view_module": "@jupyter-widgets/controls",
            "_view_module_version": "1.5.0",
            "_view_name": "VBoxView",
            "box_style": "",
            "children": [
              "IPY_MODEL_87d8efec02fa48ebb78da8c9dde9d547",
              "IPY_MODEL_e4d07dd2d0f44ed0b6ad876680aec205",
              "IPY_MODEL_19ebf27349384b57a6b115714c151874",
              "IPY_MODEL_a17bd3e104cf4f798ec992a13b6f577e",
              "IPY_MODEL_c112eba2ed974f44b67674eaa744400d"
            ],
            "layout": "IPY_MODEL_2dff14236d4e461194f22dde8a5bd8be"
          }
        },
        "7a78988523164bba80f675c3fa1e0f86": {
          "model_module": "@jupyter-widgets/base",
          "model_module_version": "1.2.0",
          "model_name": "LayoutModel",
          "state": {
            "_model_module": "@jupyter-widgets/base",
            "_model_module_version": "1.2.0",
            "_model_name": "LayoutModel",
            "_view_count": null,
            "_view_module": "@jupyter-widgets/base",
            "_view_module_version": "1.2.0",
            "_view_name": "LayoutView",
            "align_content": null,
            "align_items": null,
            "align_self": null,
            "border": null,
            "bottom": null,
            "display": null,
            "flex": null,
            "flex_flow": null,
            "grid_area": null,
            "grid_auto_columns": null,
            "grid_auto_flow": null,
            "grid_auto_rows": null,
            "grid_column": null,
            "grid_gap": null,
            "grid_row": null,
            "grid_template_areas": null,
            "grid_template_columns": null,
            "grid_template_rows": null,
            "height": null,
            "justify_content": null,
            "justify_items": null,
            "left": null,
            "margin": null,
            "max_height": null,
            "max_width": null,
            "min_height": null,
            "min_width": null,
            "object_fit": null,
            "object_position": null,
            "order": null,
            "overflow": null,
            "overflow_x": null,
            "overflow_y": null,
            "padding": null,
            "right": null,
            "top": null,
            "visibility": null,
            "width": null
          }
        },
        "7e6c5f51d8bc431f9bc2d30e2c805b11": {
          "model_module": "@jupyter-widgets/controls",
          "model_module_version": "1.5.0",
          "model_name": "DescriptionStyleModel",
          "state": {
            "_model_module": "@jupyter-widgets/controls",
            "_model_module_version": "1.5.0",
            "_model_name": "DescriptionStyleModel",
            "_view_count": null,
            "_view_module": "@jupyter-widgets/base",
            "_view_module_version": "1.2.0",
            "_view_name": "StyleView",
            "description_width": ""
          }
        },
        "87d8efec02fa48ebb78da8c9dde9d547": {
          "model_module": "@jupyter-widgets/controls",
          "model_module_version": "1.5.0",
          "model_name": "HTMLModel",
          "state": {
            "_dom_classes": [],
            "_model_module": "@jupyter-widgets/controls",
            "_model_module_version": "1.5.0",
            "_model_name": "HTMLModel",
            "_view_count": null,
            "_view_module": "@jupyter-widgets/controls",
            "_view_module_version": "1.5.0",
            "_view_name": "HTMLView",
            "description": "",
            "description_tooltip": null,
            "layout": "IPY_MODEL_94e26b7817b443309b79a96df922fa90",
            "placeholder": "​",
            "style": "IPY_MODEL_6a42f88b5ec34c5dbcf793436b950b49",
            "value": "<center> <img\nsrc=https://huggingface.co/front/assets/huggingface_logo-noborder.svg\nalt='Hugging Face'> <br> Copy a token from <a\nhref=\"https://huggingface.co/settings/tokens\" target=\"_blank\">your Hugging Face\ntokens page</a> and paste it below. <br> Immediately click login after copying\nyour token or it might be stored in plain text in this notebook file. </center>"
          }
        },
        "94e26b7817b443309b79a96df922fa90": {
          "model_module": "@jupyter-widgets/base",
          "model_module_version": "1.2.0",
          "model_name": "LayoutModel",
          "state": {
            "_model_module": "@jupyter-widgets/base",
            "_model_module_version": "1.2.0",
            "_model_name": "LayoutModel",
            "_view_count": null,
            "_view_module": "@jupyter-widgets/base",
            "_view_module_version": "1.2.0",
            "_view_name": "LayoutView",
            "align_content": null,
            "align_items": null,
            "align_self": null,
            "border": null,
            "bottom": null,
            "display": null,
            "flex": null,
            "flex_flow": null,
            "grid_area": null,
            "grid_auto_columns": null,
            "grid_auto_flow": null,
            "grid_auto_rows": null,
            "grid_column": null,
            "grid_gap": null,
            "grid_row": null,
            "grid_template_areas": null,
            "grid_template_columns": null,
            "grid_template_rows": null,
            "height": null,
            "justify_content": null,
            "justify_items": null,
            "left": null,
            "margin": null,
            "max_height": null,
            "max_width": null,
            "min_height": null,
            "min_width": null,
            "object_fit": null,
            "object_position": null,
            "order": null,
            "overflow": null,
            "overflow_x": null,
            "overflow_y": null,
            "padding": null,
            "right": null,
            "top": null,
            "visibility": null,
            "width": null
          }
        },
        "9a5f1e155cbd4810b4d64d1198809f2e": {
          "model_module": "@jupyter-widgets/controls",
          "model_module_version": "1.5.0",
          "model_name": "HTMLModel",
          "state": {
            "_dom_classes": [],
            "_model_module": "@jupyter-widgets/controls",
            "_model_module_version": "1.5.0",
            "_model_name": "HTMLModel",
            "_view_count": null,
            "_view_module": "@jupyter-widgets/controls",
            "_view_module_version": "1.5.0",
            "_view_name": "HTMLView",
            "description": "",
            "description_tooltip": null,
            "layout": "IPY_MODEL_117c60f68083408b80cf6109384193bb",
            "placeholder": "​",
            "style": "IPY_MODEL_b031059604a14801be2caaf7867f00f0",
            "value": "Map: 100%"
          }
        },
        "9b93cb6d3ce144e380dad0dc432b39dd": {
          "model_module": "@jupyter-widgets/controls",
          "model_module_version": "1.5.0",
          "model_name": "HBoxModel",
          "state": {
            "_dom_classes": [],
            "_model_module": "@jupyter-widgets/controls",
            "_model_module_version": "1.5.0",
            "_model_name": "HBoxModel",
            "_view_count": null,
            "_view_module": "@jupyter-widgets/controls",
            "_view_module_version": "1.5.0",
            "_view_name": "HBoxView",
            "box_style": "",
            "children": [
              "IPY_MODEL_9a5f1e155cbd4810b4d64d1198809f2e",
              "IPY_MODEL_51e646508e7947f8aed8fac601ae5ffb",
              "IPY_MODEL_febb88a2258b4f7e96ae4edae413a874"
            ],
            "layout": "IPY_MODEL_0d85b69492e4469e9f2e612cda0f326b"
          }
        },
        "a002055382034e01a542ce7a75425ff4": {
          "model_module": "@jupyter-widgets/controls",
          "model_module_version": "1.5.0",
          "model_name": "DescriptionStyleModel",
          "state": {
            "_model_module": "@jupyter-widgets/controls",
            "_model_module_version": "1.5.0",
            "_model_name": "DescriptionStyleModel",
            "_view_count": null,
            "_view_module": "@jupyter-widgets/base",
            "_view_module_version": "1.2.0",
            "_view_name": "StyleView",
            "description_width": ""
          }
        },
        "a17bd3e104cf4f798ec992a13b6f577e": {
          "model_module": "@jupyter-widgets/controls",
          "model_module_version": "1.5.0",
          "model_name": "ButtonModel",
          "state": {
            "_dom_classes": [],
            "_model_module": "@jupyter-widgets/controls",
            "_model_module_version": "1.5.0",
            "_model_name": "ButtonModel",
            "_view_count": null,
            "_view_module": "@jupyter-widgets/controls",
            "_view_module_version": "1.5.0",
            "_view_name": "ButtonView",
            "button_style": "",
            "description": "Login",
            "disabled": false,
            "icon": "",
            "layout": "IPY_MODEL_150a14ea1ba947678d9875c9c515049e",
            "style": "IPY_MODEL_b0e232e6508b4407b4c2991324197a5e",
            "tooltip": ""
          }
        },
        "b031059604a14801be2caaf7867f00f0": {
          "model_module": "@jupyter-widgets/controls",
          "model_module_version": "1.5.0",
          "model_name": "DescriptionStyleModel",
          "state": {
            "_model_module": "@jupyter-widgets/controls",
            "_model_module_version": "1.5.0",
            "_model_name": "DescriptionStyleModel",
            "_view_count": null,
            "_view_module": "@jupyter-widgets/base",
            "_view_module_version": "1.2.0",
            "_view_name": "StyleView",
            "description_width": ""
          }
        },
        "b0e232e6508b4407b4c2991324197a5e": {
          "model_module": "@jupyter-widgets/controls",
          "model_module_version": "1.5.0",
          "model_name": "ButtonStyleModel",
          "state": {
            "_model_module": "@jupyter-widgets/controls",
            "_model_module_version": "1.5.0",
            "_model_name": "ButtonStyleModel",
            "_view_count": null,
            "_view_module": "@jupyter-widgets/base",
            "_view_module_version": "1.2.0",
            "_view_name": "StyleView",
            "button_color": null,
            "font_weight": ""
          }
        },
        "c112eba2ed974f44b67674eaa744400d": {
          "model_module": "@jupyter-widgets/controls",
          "model_module_version": "1.5.0",
          "model_name": "HTMLModel",
          "state": {
            "_dom_classes": [],
            "_model_module": "@jupyter-widgets/controls",
            "_model_module_version": "1.5.0",
            "_model_name": "HTMLModel",
            "_view_count": null,
            "_view_module": "@jupyter-widgets/controls",
            "_view_module_version": "1.5.0",
            "_view_name": "HTMLView",
            "description": "",
            "description_tooltip": null,
            "layout": "IPY_MODEL_ebe9b49baf05448abf33a6cb47a9952d",
            "placeholder": "​",
            "style": "IPY_MODEL_d91f0ae1129b4c56b75e25087e33adcc",
            "value": "\n<b>Pro Tip:</b> If you don't already have one, you can create a dedicated\n'notebooks' token with 'write' access, that you can then easily reuse for all\nnotebooks. </center>"
          }
        },
        "d91f0ae1129b4c56b75e25087e33adcc": {
          "model_module": "@jupyter-widgets/controls",
          "model_module_version": "1.5.0",
          "model_name": "DescriptionStyleModel",
          "state": {
            "_model_module": "@jupyter-widgets/controls",
            "_model_module_version": "1.5.0",
            "_model_name": "DescriptionStyleModel",
            "_view_count": null,
            "_view_module": "@jupyter-widgets/base",
            "_view_module_version": "1.2.0",
            "_view_name": "StyleView",
            "description_width": ""
          }
        },
        "e4d07dd2d0f44ed0b6ad876680aec205": {
          "model_module": "@jupyter-widgets/controls",
          "model_module_version": "1.5.0",
          "model_name": "PasswordModel",
          "state": {
            "_dom_classes": [],
            "_model_module": "@jupyter-widgets/controls",
            "_model_module_version": "1.5.0",
            "_model_name": "PasswordModel",
            "_view_count": null,
            "_view_module": "@jupyter-widgets/controls",
            "_view_module_version": "1.5.0",
            "_view_name": "PasswordView",
            "continuous_update": true,
            "description": "Token:",
            "description_tooltip": null,
            "disabled": false,
            "layout": "IPY_MODEL_f38a2ff6b5da4c25a62a75b091ec0b02",
            "placeholder": "​",
            "style": "IPY_MODEL_f1455541aec7459b946b19187d8eb5b7",
            "value": ""
          }
        },
        "ebe9b49baf05448abf33a6cb47a9952d": {
          "model_module": "@jupyter-widgets/base",
          "model_module_version": "1.2.0",
          "model_name": "LayoutModel",
          "state": {
            "_model_module": "@jupyter-widgets/base",
            "_model_module_version": "1.2.0",
            "_model_name": "LayoutModel",
            "_view_count": null,
            "_view_module": "@jupyter-widgets/base",
            "_view_module_version": "1.2.0",
            "_view_name": "LayoutView",
            "align_content": null,
            "align_items": null,
            "align_self": null,
            "border": null,
            "bottom": null,
            "display": null,
            "flex": null,
            "flex_flow": null,
            "grid_area": null,
            "grid_auto_columns": null,
            "grid_auto_flow": null,
            "grid_auto_rows": null,
            "grid_column": null,
            "grid_gap": null,
            "grid_row": null,
            "grid_template_areas": null,
            "grid_template_columns": null,
            "grid_template_rows": null,
            "height": null,
            "justify_content": null,
            "justify_items": null,
            "left": null,
            "margin": null,
            "max_height": null,
            "max_width": null,
            "min_height": null,
            "min_width": null,
            "object_fit": null,
            "object_position": null,
            "order": null,
            "overflow": null,
            "overflow_x": null,
            "overflow_y": null,
            "padding": null,
            "right": null,
            "top": null,
            "visibility": null,
            "width": null
          }
        },
        "f1455541aec7459b946b19187d8eb5b7": {
          "model_module": "@jupyter-widgets/controls",
          "model_module_version": "1.5.0",
          "model_name": "DescriptionStyleModel",
          "state": {
            "_model_module": "@jupyter-widgets/controls",
            "_model_module_version": "1.5.0",
            "_model_name": "DescriptionStyleModel",
            "_view_count": null,
            "_view_module": "@jupyter-widgets/base",
            "_view_module_version": "1.2.0",
            "_view_name": "StyleView",
            "description_width": ""
          }
        },
        "f38a2ff6b5da4c25a62a75b091ec0b02": {
          "model_module": "@jupyter-widgets/base",
          "model_module_version": "1.2.0",
          "model_name": "LayoutModel",
          "state": {
            "_model_module": "@jupyter-widgets/base",
            "_model_module_version": "1.2.0",
            "_model_name": "LayoutModel",
            "_view_count": null,
            "_view_module": "@jupyter-widgets/base",
            "_view_module_version": "1.2.0",
            "_view_name": "LayoutView",
            "align_content": null,
            "align_items": null,
            "align_self": null,
            "border": null,
            "bottom": null,
            "display": null,
            "flex": null,
            "flex_flow": null,
            "grid_area": null,
            "grid_auto_columns": null,
            "grid_auto_flow": null,
            "grid_auto_rows": null,
            "grid_column": null,
            "grid_gap": null,
            "grid_row": null,
            "grid_template_areas": null,
            "grid_template_columns": null,
            "grid_template_rows": null,
            "height": null,
            "justify_content": null,
            "justify_items": null,
            "left": null,
            "margin": null,
            "max_height": null,
            "max_width": null,
            "min_height": null,
            "min_width": null,
            "object_fit": null,
            "object_position": null,
            "order": null,
            "overflow": null,
            "overflow_x": null,
            "overflow_y": null,
            "padding": null,
            "right": null,
            "top": null,
            "visibility": null,
            "width": null
          }
        },
        "febb88a2258b4f7e96ae4edae413a874": {
          "model_module": "@jupyter-widgets/controls",
          "model_module_version": "1.5.0",
          "model_name": "HTMLModel",
          "state": {
            "_dom_classes": [],
            "_model_module": "@jupyter-widgets/controls",
            "_model_module_version": "1.5.0",
            "_model_name": "HTMLModel",
            "_view_count": null,
            "_view_module": "@jupyter-widgets/controls",
            "_view_module_version": "1.5.0",
            "_view_name": "HTMLView",
            "description": "",
            "description_tooltip": null,
            "layout": "IPY_MODEL_4708d41d03244c8cb8ec817cf7907ad4",
            "placeholder": "​",
            "style": "IPY_MODEL_a002055382034e01a542ce7a75425ff4",
            "value": " 66853/66853 [00:40&lt;00:00, 1878.27 examples/s]"
          }
        }
      }
    }
  },
  "nbformat": 4,
  "nbformat_minor": 0
}